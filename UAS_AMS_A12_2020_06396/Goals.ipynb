{
 "cells": [
  {
   "cell_type": "markdown",
   "id": "c0b311f1-457c-4c62-b85f-757cfd86717f",
   "metadata": {},
   "source": [
    "# Goals\n",
    "\n",
    "### Latar belakang\n",
    "Recomender System merupakan sistem dengan racangan untuk dapat memberikan rekomendasi kepada penggunanya berdasarkan preferensi, kebiasaan, maupun minat yang menjadi kebiasaan dari pengguna tersebut. sistem ini seringkali digunakan dalam berbagai aplikasi seperti media streaming, sosial media, e-commerce, maupun media digital lainnya dengan tujuan membantu penggunanya untuk dapat menemukan konten, aktivitas, dan konten yang sesuai dengan apa yang mereka butuhkan.\n",
    "\n",
    "Recomender System memeiliki cara berkerjanya mereka masing-masing tergantung pada metode yang digunakan dan sumber data yang ada. secara general sistem ini memiliki dua komponen yang menjadi struktur utamanya. yaitu:\n",
    "1. Engine Rekomendasi: bagian ini memiliki fungsi untuk menghitung dan mengelompokkan rekomendasi yang akan diberikan kepada penggunanya. engine ini menggunakan algoritma yang cukup kompleks untuk melakukan evaluasi preferensi kebiasaan pengguna, lalu dikelompokkan sesuai dengan kriteria tersebut.\n",
    "\n",
    "2. Sumber Data: Merupakan bagian dari sistem yang menyimpan data tentang preferensi, minat, atau kebiasaan pengguna. Sumber data biasanya terdiri dari database yang menyimpan informasi tentang interaksi pengguna dengan produk, konten, atau aktivitas yang tersedia.\n",
    "\n",
    "latar belakang munculnya sistem ini sebenarnya untuk membantu pengguna menemukan konten yang sesuai dengan minat dan kebutuhan mereka, serta memudahkan proses belanja atau mencari informasi. Sistem rekomendasi juga bisa membantu pemilik aplikasi atau bisnis untuk meningkatkan loyalitas pengguna dan meningkatkan penjualan.\n",
    " \n",
    "### Kebutuhan\n",
    "beberapa kebutuhan yang mendasari munculnya sistem rekomendasi, yaitu:\n",
    "1. Mengurangi waktu yang dibutuhkan pengguna untuk menemukan konten yang sesuai dengan minat dan kebutuhan mereka. Sistem rekomendasi dapat membantu pengguna menemukan konten yang relevan dengan cepat dan mudah, sehingga tidak perlu mengeluarkan banyak waktu untuk mencari secara manual.\n",
    "\n",
    "2. Meningkatkan loyalitas pengguna. Sistem rekomendasi yang baik dapat membantu pemilik aplikasi atau bisnis untuk mempertahankan keberlangsungan pengguna dengan memberikan rekomendasi yang sesuai dengan minat dan kebutuhan mereka. Ini dapat mengurangi kemungkinan pengguna untuk beralih ke aplikasi atau bisnis lain.\n",
    "\n",
    "3. Meningkatkan penjualan. Sistem rekomendasi yang baik dapat membantu pemilik aplikasi atau bisnis untuk meningkatkan penjualan dengan memberikan rekomendasi yang sesuai dengan minat dan kebutuhan pengguna. Ini dapat membantu meningkatkan tingkat konversi dan meningkatkan keuntungan per pengguna.\n",
    "\n",
    "4. Membantu pemilik aplikasi atau bisnis untuk memahami kebutuhan dan preferensi pengguna. Sistem rekomendasi dapat membantu pemilik aplikasi atau bisnis untuk memahami kebutuhan dan preferensi pengguna dengan menganalisis interaksi pengguna dengan produk atau konten yang tersedia. Ini dapat membantu pemilik aplikasi atau bisnis untuk menyediakan produk atau konten yang lebih sesuai dengan kebutuhan pengguna.\n",
    "\n",
    "### Output\n",
    "output yang dihasilkan berupa daftar rekomendasi yang disusun berdasarkan elevansi atau kemiripan dengan preferensi atau kebiasaan pengguna. Rekomendasi ini bisa berupa produk, konten, atau aktivitas yang sesuai dengan minat dan kebutuhan pengguna. hal lainnya berupa rating atau skor yang menunjukkan seberapa relevan atau cocok suatu produk, konten, atau aktivitas dengan preferensi atau kebiasaan pengguna. Rating ini biasanya disusun dari yang paling relevan hingga yang paling tidak relevan. selain itu statistik preferensi atau kebiasaan pengguna juga dapat menjadi output pada sstem ini. "
   ]
  }
 ],
 "metadata": {
  "kernelspec": {
   "display_name": "Python 3 (ipykernel)",
   "language": "python",
   "name": "python3"
  },
  "language_info": {
   "codemirror_mode": {
    "name": "ipython",
    "version": 3
   },
   "file_extension": ".py",
   "mimetype": "text/x-python",
   "name": "python",
   "nbconvert_exporter": "python",
   "pygments_lexer": "ipython3",
   "version": "3.9.12"
  }
 },
 "nbformat": 4,
 "nbformat_minor": 5
}
