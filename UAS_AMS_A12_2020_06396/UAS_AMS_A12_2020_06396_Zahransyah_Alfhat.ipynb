{
 "cells": [
  {
   "cell_type": "markdown",
   "id": "4ba07fa2-d034-4666-8cb5-c2ab475898c1",
   "metadata": {},
   "source": [
    "# Ujian Akhir Semester Analitika Media Sosial"
   ]
  },
  {
   "cell_type": "markdown",
   "id": "a7b223db-2795-40f6-a743-61e0b9bbe4f4",
   "metadata": {},
   "source": [
    "## Nama : Zahransyah Alfhat\n",
    "## NIM : A12.2020.06396\n",
    "## Kelas : 6501"
   ]
  },
  {
   "cell_type": "markdown",
   "id": "8eaaebda-614d-4b44-adfc-f1187cd28a2c",
   "metadata": {},
   "source": [
    "## Recomender System dengan pemodelan filtering\n",
    "filtering merupakan metode yang biasanya digunakan dalam sistem rekomendasi. Metode ini menggunakan informasi tentang pengguna atau item yang tersedia untuk memfilter dan mengurutkan rekomendasi yang akan diberikan kepada pengguna. Ada dua jenis filtering yang umum digunakan: Filtering Berbasis Pengguna: Metode ini menggunakan informasi tentang preferensi atau sejarah interaksi pengguna dengan item-item tertentu untuk memberikan rekomendasi yang sesuai dengan minat dan kebiasaan pengguna.\n",
    "Filtering Berbasis Item: Metode ini menggunakan informasi tentang karakteristik atau fitur dari setiap item untuk mencocokkan dengan preferensi pengguna dan memberikan rekomendasi yang sesuai.\n",
    "Kedua metode ini biasanya digunakan bersama-sama untuk memberikan rekomendasi yang lebih akurat kepada pengguna. Misalnya, sebuah sistem rekomendasi dapat menggunakan informasi tentang sejarah pembelian pengguna dan fitur produk untuk memberikan rekomendasi produk yang sesuai dengan minat dan kebiasaan belanja pengguna.\n",
    "\n",
    "### pada kesempatan kali ini saya akan melakukan rekomendasi film jepang dengan menggunakan pandas and numpy\n",
    "pandas merupakan library dalam phyton untuk memanipulasi dan menganalisis data secara efisien dalam menangani data terstruktur dan tidak terstruktur seperti yang ada pada database, file csv, maupun data yang di-srape dari web\n",
    "sedangkan numpy digunakan dalam komputasi numerik. library ini memberikan kemampuan pengolahan masalah matematika maupun numerik secara efisien.\n",
    "### pertama tama yang harus dilakukan adalah melakukan import library\n",
    "seperti yang dijelaskan diatas, library yang digunakan adalah pandas dan numpy"
   ]
  },
  {
   "cell_type": "code",
   "execution_count": 2,
   "id": "b814bae7-b7a8-41a4-8acd-0c73748e4812",
   "metadata": {},
   "outputs": [],
   "source": [
    "import numpy as np\n",
    "import pandas as pd"
   ]
  },
  {
   "cell_type": "markdown",
   "id": "40702836-a8c5-4337-b847-29689ab15fb0",
   "metadata": {},
   "source": [
    "### kemudian langkah selanjutnya saya akan melakukan import data\n",
    "data yang saya digunakan berbentuk CSV (CSV adalah singkatan dari Comma Separated Values, yang merupakan format file yang digunakan untuk menyimpan data tabular dengan menggunakan koma sebagai pemisah antar nilai. Data tabular ini biasanya terdiri dari baris dan kolom, dengan setiap baris mewakili satu record atau entri data, dan setiap kolom mewakili sebuah field atau atribut dari data tersebut). untuk datasetnya sendiri saya menggunakan Anime Dataset 2022 dengan #rank rank of the Anime Given by Anime Planet Website terdiri dari 18495 data, 17 colums yang terdiri dari (Rank, Name, Japanese_name, Type, Episodes, Studio, Release_season, Tags, Rating, Release_year, End_year, Description, Content_Warning, Related_Mange, Related_Anime, Voice_actord, Staff)."
   ]
  },
  {
   "cell_type": "code",
   "execution_count": 3,
   "id": "ff4dc77c-e8c5-4948-9655-135c2d6c70ab",
   "metadata": {},
   "outputs": [],
   "source": [
    "data_m = pd.read_csv(\"Anime.csv\")"
   ]
  },
  {
   "cell_type": "markdown",
   "id": "3e7c738d-3d11-45b3-a066-4a50c54563e9",
   "metadata": {},
   "source": [
    "### kemudian saya akan menampikan informasi berkaitan dengan data yang telah saya import"
   ]
  },
  {
   "cell_type": "code",
   "execution_count": 4,
   "id": "1fed098d-70fb-426a-a831-90c74d7ce3a9",
   "metadata": {},
   "outputs": [
    {
     "name": "stdout",
     "output_type": "stream",
     "text": [
      "<class 'pandas.core.frame.DataFrame'>\n",
      "RangeIndex: 18495 entries, 0 to 18494\n",
      "Data columns (total 17 columns):\n",
      " #   Column           Non-Null Count  Dtype  \n",
      "---  ------           --------------  -----  \n",
      " 0   Rank             18495 non-null  int64  \n",
      " 1   Name             18495 non-null  object \n",
      " 2   Japanese_name    7938 non-null   object \n",
      " 3   Type             18495 non-null  object \n",
      " 4   Episodes         9501 non-null   float64\n",
      " 5   Studio           12018 non-null  object \n",
      " 6   Release_season   4116 non-null   object \n",
      " 7   Tags             18095 non-null  object \n",
      " 8   Rating           15364 non-null  float64\n",
      " 9   Release_year     18112 non-null  float64\n",
      " 10  End_year         2854 non-null   float64\n",
      " 11  Description      18491 non-null  object \n",
      " 12  Content_Warning  1840 non-null   object \n",
      " 13  Related_Mange    7627 non-null   object \n",
      " 14  Related_anime    10063 non-null  object \n",
      " 15  Voice_actors     15309 non-null  object \n",
      " 16  staff            13005 non-null  object \n",
      "dtypes: float64(4), int64(1), object(12)\n",
      "memory usage: 2.4+ MB\n"
     ]
    }
   ],
   "source": [
    "data_m.info()"
   ]
  },
  {
   "cell_type": "code",
   "execution_count": 5,
   "id": "b7a6e21d-2e94-4e78-8761-912ee46825f0",
   "metadata": {},
   "outputs": [
    {
     "data": {
      "text/html": [
       "<div>\n",
       "<style scoped>\n",
       "    .dataframe tbody tr th:only-of-type {\n",
       "        vertical-align: middle;\n",
       "    }\n",
       "\n",
       "    .dataframe tbody tr th {\n",
       "        vertical-align: top;\n",
       "    }\n",
       "\n",
       "    .dataframe thead th {\n",
       "        text-align: right;\n",
       "    }\n",
       "</style>\n",
       "<table border=\"1\" class=\"dataframe\">\n",
       "  <thead>\n",
       "    <tr style=\"text-align: right;\">\n",
       "      <th></th>\n",
       "      <th>Rank</th>\n",
       "      <th>Name</th>\n",
       "      <th>Japanese_name</th>\n",
       "      <th>Type</th>\n",
       "      <th>Episodes</th>\n",
       "      <th>Studio</th>\n",
       "      <th>Release_season</th>\n",
       "      <th>Tags</th>\n",
       "      <th>Rating</th>\n",
       "      <th>Release_year</th>\n",
       "      <th>End_year</th>\n",
       "      <th>Description</th>\n",
       "      <th>Content_Warning</th>\n",
       "      <th>Related_Mange</th>\n",
       "      <th>Related_anime</th>\n",
       "      <th>Voice_actors</th>\n",
       "      <th>staff</th>\n",
       "    </tr>\n",
       "  </thead>\n",
       "  <tbody>\n",
       "    <tr>\n",
       "      <th>0</th>\n",
       "      <td>1</td>\n",
       "      <td>Demon Slayer: Kimetsu no Yaiba - Entertainment...</td>\n",
       "      <td>Kimetsu no Yaiba: Yuukaku-hen</td>\n",
       "      <td>TV</td>\n",
       "      <td>NaN</td>\n",
       "      <td>ufotable</td>\n",
       "      <td>Fall</td>\n",
       "      <td>Action, Adventure, Fantasy, Shounen, Demons, H...</td>\n",
       "      <td>4.60</td>\n",
       "      <td>2021.0</td>\n",
       "      <td>NaN</td>\n",
       "      <td>'Tanjiro and his friends accompany the Hashira...</td>\n",
       "      <td>Explicit Violence</td>\n",
       "      <td>Demon Slayer: Kimetsu no Yaiba</td>\n",
       "      <td>Demon Slayer: Kimetsu no Yaiba, Demon Slayer: ...</td>\n",
       "      <td>Inosuke Hashibira : Yoshitsugu Matsuoka, Nezuk...</td>\n",
       "      <td>Koyoharu Gotouge : Original Creator, Haruo Sot...</td>\n",
       "    </tr>\n",
       "    <tr>\n",
       "      <th>1</th>\n",
       "      <td>2</td>\n",
       "      <td>Fruits Basket the Final Season</td>\n",
       "      <td>Fruits Basket the Final</td>\n",
       "      <td>TV</td>\n",
       "      <td>13.0</td>\n",
       "      <td>TMS Entertainment</td>\n",
       "      <td>Spring</td>\n",
       "      <td>Drama, Fantasy, Romance, Shoujo, Animal Transf...</td>\n",
       "      <td>4.60</td>\n",
       "      <td>2021.0</td>\n",
       "      <td>NaN</td>\n",
       "      <td>'The final arc of Fruits Basket.'</td>\n",
       "      <td>Emotional Abuse,, Mature Themes,, Physical Abu...</td>\n",
       "      <td>Fruits Basket, Fruits Basket Another</td>\n",
       "      <td>Fruits Basket 1st Season, Fruits Basket 2nd Se...</td>\n",
       "      <td>Akito Sohma : Maaya Sakamoto, Kyo Sohma : Yuum...</td>\n",
       "      <td>Natsuki Takaya : Original Creator, Yoshihide I...</td>\n",
       "    </tr>\n",
       "    <tr>\n",
       "      <th>2</th>\n",
       "      <td>3</td>\n",
       "      <td>Mo Dao Zu Shi 3</td>\n",
       "      <td>The Founder of Diabolism 3</td>\n",
       "      <td>Web</td>\n",
       "      <td>12.0</td>\n",
       "      <td>B.C MAY PICTURES</td>\n",
       "      <td>NaN</td>\n",
       "      <td>Fantasy, Ancient China, Chinese Animation, Cul...</td>\n",
       "      <td>4.58</td>\n",
       "      <td>2021.0</td>\n",
       "      <td>NaN</td>\n",
       "      <td>'The third season of Mo Dao Zu Shi.'</td>\n",
       "      <td>NaN</td>\n",
       "      <td>Grandmaster of Demonic Cultivation: Mo Dao Zu ...</td>\n",
       "      <td>Mo Dao Zu Shi 2, Mo Dao Zu Shi Q</td>\n",
       "      <td>Lan Wangji, Wei Wuxian, Jiang Cheng, Jin Guang...</td>\n",
       "      <td>Mo Xiang Tong Xiu : Original Creator, Xiong Ke...</td>\n",
       "    </tr>\n",
       "    <tr>\n",
       "      <th>3</th>\n",
       "      <td>4</td>\n",
       "      <td>Fullmetal Alchemist: Brotherhood</td>\n",
       "      <td>Hagane no Renkinjutsushi: Full Metal Alchemist</td>\n",
       "      <td>TV</td>\n",
       "      <td>64.0</td>\n",
       "      <td>Bones</td>\n",
       "      <td>Spring</td>\n",
       "      <td>Action, Adventure, Drama, Fantasy, Mystery, Sh...</td>\n",
       "      <td>4.58</td>\n",
       "      <td>2009.0</td>\n",
       "      <td>2010.0</td>\n",
       "      <td>\"The foundation of alchemy is based on the law...</td>\n",
       "      <td>Animal Abuse,, Mature Themes,, Violence,, Dome...</td>\n",
       "      <td>Fullmetal Alchemist, Fullmetal Alchemist (Ligh...</td>\n",
       "      <td>Fullmetal Alchemist: Brotherhood Specials, Ful...</td>\n",
       "      <td>Alphonse Elric : Rie Kugimiya, Edward Elric : ...</td>\n",
       "      <td>Hiromu Arakawa : Original Creator, Yasuhiro Ir...</td>\n",
       "    </tr>\n",
       "    <tr>\n",
       "      <th>4</th>\n",
       "      <td>5</td>\n",
       "      <td>Attack on Titan 3rd Season: Part II</td>\n",
       "      <td>Shingeki no Kyojin Season 3: Part II</td>\n",
       "      <td>TV</td>\n",
       "      <td>10.0</td>\n",
       "      <td>WIT Studio</td>\n",
       "      <td>Spring</td>\n",
       "      <td>Action, Fantasy, Horror, Shounen, Dark Fantasy...</td>\n",
       "      <td>4.57</td>\n",
       "      <td>2019.0</td>\n",
       "      <td>NaN</td>\n",
       "      <td>'The battle to retake Wall Maria begins now! W...</td>\n",
       "      <td>Cannibalism,, Explicit Violence</td>\n",
       "      <td>Attack on Titan, Attack on Titan: End of the W...</td>\n",
       "      <td>Attack on Titan, Attack on Titan 2nd Season, A...</td>\n",
       "      <td>Armin Arlelt : Marina Inoue, Eren Jaeger : Yuu...</td>\n",
       "      <td>Hajime Isayama : Original Creator, Tetsurou Ar...</td>\n",
       "    </tr>\n",
       "  </tbody>\n",
       "</table>\n",
       "</div>"
      ],
      "text/plain": [
       "   Rank                                               Name  \\\n",
       "0     1  Demon Slayer: Kimetsu no Yaiba - Entertainment...   \n",
       "1     2                     Fruits Basket the Final Season   \n",
       "2     3                                    Mo Dao Zu Shi 3   \n",
       "3     4                   Fullmetal Alchemist: Brotherhood   \n",
       "4     5                Attack on Titan 3rd Season: Part II   \n",
       "\n",
       "                                     Japanese_name   Type  Episodes  \\\n",
       "0                    Kimetsu no Yaiba: Yuukaku-hen  TV          NaN   \n",
       "1                          Fruits Basket the Final  TV         13.0   \n",
       "2                       The Founder of Diabolism 3  Web        12.0   \n",
       "3   Hagane no Renkinjutsushi: Full Metal Alchemist  TV         64.0   \n",
       "4             Shingeki no Kyojin Season 3: Part II  TV         10.0   \n",
       "\n",
       "              Studio Release_season  \\\n",
       "0           ufotable          Fall    \n",
       "1  TMS Entertainment         Spring   \n",
       "2   B.C MAY PICTURES            NaN   \n",
       "3              Bones         Spring   \n",
       "4         WIT Studio         Spring   \n",
       "\n",
       "                                                Tags  Rating  Release_year  \\\n",
       "0  Action, Adventure, Fantasy, Shounen, Demons, H...    4.60        2021.0   \n",
       "1  Drama, Fantasy, Romance, Shoujo, Animal Transf...    4.60        2021.0   \n",
       "2  Fantasy, Ancient China, Chinese Animation, Cul...    4.58        2021.0   \n",
       "3  Action, Adventure, Drama, Fantasy, Mystery, Sh...    4.58        2009.0   \n",
       "4  Action, Fantasy, Horror, Shounen, Dark Fantasy...    4.57        2019.0   \n",
       "\n",
       "   End_year                                        Description  \\\n",
       "0       NaN  'Tanjiro and his friends accompany the Hashira...   \n",
       "1       NaN                  'The final arc of Fruits Basket.'   \n",
       "2       NaN               'The third season of Mo Dao Zu Shi.'   \n",
       "3    2010.0  \"The foundation of alchemy is based on the law...   \n",
       "4       NaN  'The battle to retake Wall Maria begins now! W...   \n",
       "\n",
       "                                     Content_Warning  \\\n",
       "0                                  Explicit Violence   \n",
       "1  Emotional Abuse,, Mature Themes,, Physical Abu...   \n",
       "2                                                NaN   \n",
       "3  Animal Abuse,, Mature Themes,, Violence,, Dome...   \n",
       "4                    Cannibalism,, Explicit Violence   \n",
       "\n",
       "                                       Related_Mange  \\\n",
       "0                     Demon Slayer: Kimetsu no Yaiba   \n",
       "1               Fruits Basket, Fruits Basket Another   \n",
       "2  Grandmaster of Demonic Cultivation: Mo Dao Zu ...   \n",
       "3  Fullmetal Alchemist, Fullmetal Alchemist (Ligh...   \n",
       "4  Attack on Titan, Attack on Titan: End of the W...   \n",
       "\n",
       "                                       Related_anime  \\\n",
       "0  Demon Slayer: Kimetsu no Yaiba, Demon Slayer: ...   \n",
       "1  Fruits Basket 1st Season, Fruits Basket 2nd Se...   \n",
       "2                   Mo Dao Zu Shi 2, Mo Dao Zu Shi Q   \n",
       "3  Fullmetal Alchemist: Brotherhood Specials, Ful...   \n",
       "4  Attack on Titan, Attack on Titan 2nd Season, A...   \n",
       "\n",
       "                                        Voice_actors  \\\n",
       "0  Inosuke Hashibira : Yoshitsugu Matsuoka, Nezuk...   \n",
       "1  Akito Sohma : Maaya Sakamoto, Kyo Sohma : Yuum...   \n",
       "2  Lan Wangji, Wei Wuxian, Jiang Cheng, Jin Guang...   \n",
       "3  Alphonse Elric : Rie Kugimiya, Edward Elric : ...   \n",
       "4  Armin Arlelt : Marina Inoue, Eren Jaeger : Yuu...   \n",
       "\n",
       "                                               staff  \n",
       "0  Koyoharu Gotouge : Original Creator, Haruo Sot...  \n",
       "1  Natsuki Takaya : Original Creator, Yoshihide I...  \n",
       "2  Mo Xiang Tong Xiu : Original Creator, Xiong Ke...  \n",
       "3  Hiromu Arakawa : Original Creator, Yasuhiro Ir...  \n",
       "4  Hajime Isayama : Original Creator, Tetsurou Ar...  "
      ]
     },
     "execution_count": 5,
     "metadata": {},
     "output_type": "execute_result"
    }
   ],
   "source": [
    "data_m.head()"
   ]
  },
  {
   "cell_type": "code",
   "execution_count": 6,
   "id": "8d073a95-9d09-4ce8-a6b4-52fe720f6599",
   "metadata": {},
   "outputs": [
    {
     "data": {
      "text/html": [
       "<div>\n",
       "<style scoped>\n",
       "    .dataframe tbody tr th:only-of-type {\n",
       "        vertical-align: middle;\n",
       "    }\n",
       "\n",
       "    .dataframe tbody tr th {\n",
       "        vertical-align: top;\n",
       "    }\n",
       "\n",
       "    .dataframe thead th {\n",
       "        text-align: right;\n",
       "    }\n",
       "</style>\n",
       "<table border=\"1\" class=\"dataframe\">\n",
       "  <thead>\n",
       "    <tr style=\"text-align: right;\">\n",
       "      <th></th>\n",
       "      <th>Rank</th>\n",
       "      <th>Name</th>\n",
       "      <th>Japanese_name</th>\n",
       "      <th>Type</th>\n",
       "      <th>Episodes</th>\n",
       "      <th>Studio</th>\n",
       "      <th>Release_season</th>\n",
       "      <th>Tags</th>\n",
       "      <th>Rating</th>\n",
       "      <th>Release_year</th>\n",
       "      <th>End_year</th>\n",
       "      <th>Description</th>\n",
       "      <th>Content_Warning</th>\n",
       "      <th>Related_Mange</th>\n",
       "      <th>Related_anime</th>\n",
       "      <th>Voice_actors</th>\n",
       "      <th>staff</th>\n",
       "    </tr>\n",
       "  </thead>\n",
       "  <tbody>\n",
       "    <tr>\n",
       "      <th>18490</th>\n",
       "      <td>18491</td>\n",
       "      <td>Qin Shi Mingyue: Canghai Hengliu Xiaomeng Spec...</td>\n",
       "      <td>NaN</td>\n",
       "      <td>Web</td>\n",
       "      <td>2.0</td>\n",
       "      <td>Sparkly Key Animation Studio</td>\n",
       "      <td>NaN</td>\n",
       "      <td>Action, Ancient China, Chinese Animation, Hist...</td>\n",
       "      <td>NaN</td>\n",
       "      <td>2020.0</td>\n",
       "      <td>NaN</td>\n",
       "      <td>Special episodes of Qin Shi Mingyue: Canghai H...</td>\n",
       "      <td>NaN</td>\n",
       "      <td>NaN</td>\n",
       "      <td>Qin Shi Mingyue: Canghai Hengliu</td>\n",
       "      <td>NaN</td>\n",
       "      <td>NaN</td>\n",
       "    </tr>\n",
       "    <tr>\n",
       "      <th>18491</th>\n",
       "      <td>18492</td>\n",
       "      <td>Yi Tang Juchang: Sanguo Yanyi</td>\n",
       "      <td>NaN</td>\n",
       "      <td>TV</td>\n",
       "      <td>108.0</td>\n",
       "      <td>NaN</td>\n",
       "      <td>NaN</td>\n",
       "      <td>Chinese Animation</td>\n",
       "      <td>NaN</td>\n",
       "      <td>2010.0</td>\n",
       "      <td>NaN</td>\n",
       "      <td>No synopsis yet - check back soon!</td>\n",
       "      <td>NaN</td>\n",
       "      <td>NaN</td>\n",
       "      <td>NaN</td>\n",
       "      <td>NaN</td>\n",
       "      <td>NaN</td>\n",
       "    </tr>\n",
       "    <tr>\n",
       "      <th>18492</th>\n",
       "      <td>18493</td>\n",
       "      <td>Fenghuang Ji Xiang Yu Qingming Shanghe Tu</td>\n",
       "      <td>NaN</td>\n",
       "      <td>TV</td>\n",
       "      <td>13.0</td>\n",
       "      <td>NaN</td>\n",
       "      <td>NaN</td>\n",
       "      <td>Chinese Animation, Family Friendly, Short Epis...</td>\n",
       "      <td>NaN</td>\n",
       "      <td>2020.0</td>\n",
       "      <td>NaN</td>\n",
       "      <td>No synopsis yet - check back soon!</td>\n",
       "      <td>NaN</td>\n",
       "      <td>NaN</td>\n",
       "      <td>NaN</td>\n",
       "      <td>NaN</td>\n",
       "      <td>NaN</td>\n",
       "    </tr>\n",
       "    <tr>\n",
       "      <th>18493</th>\n",
       "      <td>18494</td>\n",
       "      <td>Chengshi Jiyi Wo Men de Jieri</td>\n",
       "      <td>NaN</td>\n",
       "      <td>TV</td>\n",
       "      <td>NaN</td>\n",
       "      <td>NaN</td>\n",
       "      <td>NaN</td>\n",
       "      <td>Chinese Animation, Family Friendly, Short Epis...</td>\n",
       "      <td>NaN</td>\n",
       "      <td>2020.0</td>\n",
       "      <td>NaN</td>\n",
       "      <td>No synopsis yet - check back soon!</td>\n",
       "      <td>NaN</td>\n",
       "      <td>NaN</td>\n",
       "      <td>NaN</td>\n",
       "      <td>NaN</td>\n",
       "      <td>NaN</td>\n",
       "    </tr>\n",
       "    <tr>\n",
       "      <th>18494</th>\n",
       "      <td>18495</td>\n",
       "      <td>Heisei Inu Monogatari Bow: Genshi Inu Monogata...</td>\n",
       "      <td>NaN</td>\n",
       "      <td>Movie</td>\n",
       "      <td>NaN</td>\n",
       "      <td>Nippon Animation</td>\n",
       "      <td>NaN</td>\n",
       "      <td>Comedy, Slice of Life, Dogs</td>\n",
       "      <td>NaN</td>\n",
       "      <td>1994.0</td>\n",
       "      <td>NaN</td>\n",
       "      <td>No synopsis yet - check back soon!</td>\n",
       "      <td>NaN</td>\n",
       "      <td>NaN</td>\n",
       "      <td>Heisei Inu Monogatari Bow</td>\n",
       "      <td>NaN</td>\n",
       "      <td>NaN</td>\n",
       "    </tr>\n",
       "  </tbody>\n",
       "</table>\n",
       "</div>"
      ],
      "text/plain": [
       "        Rank                                               Name Japanese_name  \\\n",
       "18490  18491  Qin Shi Mingyue: Canghai Hengliu Xiaomeng Spec...           NaN   \n",
       "18491  18492                      Yi Tang Juchang: Sanguo Yanyi           NaN   \n",
       "18492  18493          Fenghuang Ji Xiang Yu Qingming Shanghe Tu           NaN   \n",
       "18493  18494                      Chengshi Jiyi Wo Men de Jieri           NaN   \n",
       "18494  18495  Heisei Inu Monogatari Bow: Genshi Inu Monogata...           NaN   \n",
       "\n",
       "        Type  Episodes                        Studio Release_season  \\\n",
       "18490  Web         2.0  Sparkly Key Animation Studio            NaN   \n",
       "18491  TV        108.0                           NaN            NaN   \n",
       "18492  TV         13.0                           NaN            NaN   \n",
       "18493  TV          NaN                           NaN            NaN   \n",
       "18494  Movie       NaN              Nippon Animation            NaN   \n",
       "\n",
       "                                                    Tags  Rating  \\\n",
       "18490  Action, Ancient China, Chinese Animation, Hist...     NaN   \n",
       "18491                                  Chinese Animation     NaN   \n",
       "18492  Chinese Animation, Family Friendly, Short Epis...     NaN   \n",
       "18493  Chinese Animation, Family Friendly, Short Epis...     NaN   \n",
       "18494                        Comedy, Slice of Life, Dogs     NaN   \n",
       "\n",
       "       Release_year  End_year  \\\n",
       "18490        2020.0       NaN   \n",
       "18491        2010.0       NaN   \n",
       "18492        2020.0       NaN   \n",
       "18493        2020.0       NaN   \n",
       "18494        1994.0       NaN   \n",
       "\n",
       "                                             Description Content_Warning  \\\n",
       "18490  Special episodes of Qin Shi Mingyue: Canghai H...             NaN   \n",
       "18491                 No synopsis yet - check back soon!             NaN   \n",
       "18492                 No synopsis yet - check back soon!             NaN   \n",
       "18493                 No synopsis yet - check back soon!             NaN   \n",
       "18494                 No synopsis yet - check back soon!             NaN   \n",
       "\n",
       "      Related_Mange                     Related_anime Voice_actors staff  \n",
       "18490           NaN  Qin Shi Mingyue: Canghai Hengliu          NaN   NaN  \n",
       "18491           NaN                               NaN          NaN   NaN  \n",
       "18492           NaN                               NaN          NaN   NaN  \n",
       "18493           NaN                               NaN          NaN   NaN  \n",
       "18494           NaN         Heisei Inu Monogatari Bow          NaN   NaN  "
      ]
     },
     "execution_count": 6,
     "metadata": {},
     "output_type": "execute_result"
    }
   ],
   "source": [
    "data_m.tail()"
   ]
  },
  {
   "cell_type": "markdown",
   "id": "3edaf1e3-78c9-4293-a2c0-60c7dcbf3363",
   "metadata": {},
   "source": [
    "## selanjutnya saya akan menampilkan isi dari beberapa column"
   ]
  },
  {
   "cell_type": "code",
   "execution_count": 8,
   "id": "9113bae5-ee2f-464b-bbc8-f3775c83f110",
   "metadata": {},
   "outputs": [
    {
     "data": {
      "text/plain": [
       "'Action, Horror, Shounen, Curse, Exorcists, Monsters, School Life, Supernatural, Based on a Manga, Explicit Violence'"
      ]
     },
     "execution_count": 8,
     "metadata": {},
     "output_type": "execute_result"
    }
   ],
   "source": [
    "data_m[\"Tags\"][5]"
   ]
  },
  {
   "cell_type": "code",
   "execution_count": 9,
   "id": "a08a63aa-34ba-4ad3-82a6-5cd7e91631de",
   "metadata": {},
   "outputs": [
    {
     "data": {
      "text/plain": [
       "\"'Although Yuji Itadori looks like your average teenager, his immense physical strength is something to behold! Every sports club wants him to join, but Itadori would rather hang out with the school outcasts in the Occult Research Club. One day, the club manages to get their hands on a sealed cursed object. Little do they know the terror they’ll unleash when they break the seal…'\""
      ]
     },
     "execution_count": 9,
     "metadata": {},
     "output_type": "execute_result"
    }
   ],
   "source": [
    "data_m[\"Description\"][5]"
   ]
  },
  {
   "cell_type": "code",
   "execution_count": 10,
   "id": "65962fde-4795-4605-84b1-08e472e7ca07",
   "metadata": {},
   "outputs": [
    {
     "data": {
      "text/plain": [
       "'Explicit Violence'"
      ]
     },
     "execution_count": 10,
     "metadata": {},
     "output_type": "execute_result"
    }
   ],
   "source": [
    "data_m[\"Content_Warning\"][5]"
   ]
  },
  {
   "cell_type": "code",
   "execution_count": 11,
   "id": "092994b7-aefa-4aaf-814c-f9a06ecde342",
   "metadata": {},
   "outputs": [
    {
     "data": {
      "text/plain": [
       "'Jujutsu Kaisen 0, Jujutsu Kaisen'"
      ]
     },
     "execution_count": 11,
     "metadata": {},
     "output_type": "execute_result"
    }
   ],
   "source": [
    "data_m[\"Related_Mange\"][5]"
   ]
  },
  {
   "cell_type": "code",
   "execution_count": 12,
   "id": "70a0c091-c625-4d01-a8f0-dc825a1718bb",
   "metadata": {},
   "outputs": [
    {
     "data": {
      "text/plain": [
       "'Gege Akutami : Original Creator, Seong-Hu Park : Director, Arisa Okehazama : Music, Hiroaki Tsutsumi : Music, Yoshimasa Terui : Music, Tadashi Hiramatsu : Character Design, Akiko Fujita : Sound Director, Toshihiro Maeda : Producer'"
      ]
     },
     "execution_count": 12,
     "metadata": {},
     "output_type": "execute_result"
    }
   ],
   "source": [
    "data_m[\"staff\"][5]"
   ]
  },
  {
   "cell_type": "markdown",
   "id": "bf054843-51a8-49c8-a589-53ff7305ad9b",
   "metadata": {},
   "source": [
    "### selanjutnya adalah melakukan filtering kolom untuk model\n",
    "### nah disini fitur yang diperlukan adalah = (rank, name, type, tags, description, dan staff)"
   ]
  },
  {
   "cell_type": "code",
   "execution_count": 13,
   "id": "83654e72-d543-411a-9a76-894725e04783",
   "metadata": {},
   "outputs": [],
   "source": [
    "data_m = data_m[[\"Rank\", \"Name\", \"Type\", \"Tags\", \"Description\", \"staff\"]]"
   ]
  },
  {
   "cell_type": "markdown",
   "id": "2f9611d1-32f4-4176-adc1-ae119474a33e",
   "metadata": {},
   "source": [
    "### selanjutnya saya melakukan pengecekan apakah data tersebut terdapat duplikasi atau tidak\n",
    "bisa kita lihat bahwa data duplikasi menunjukkan angka \"0\" sehingga kita bisa langsung masuk ke tahap selanjutnya"
   ]
  },
  {
   "cell_type": "code",
   "execution_count": 14,
   "id": "4724039d-9872-43f8-8cbd-9153453f6888",
   "metadata": {},
   "outputs": [
    {
     "data": {
      "text/plain": [
       "0"
      ]
     },
     "execution_count": 14,
     "metadata": {},
     "output_type": "execute_result"
    }
   ],
   "source": [
    "data_m.duplicated().sum()"
   ]
  },
  {
   "cell_type": "markdown",
   "id": "63392f26-9437-4079-b189-d43e353d1fb4",
   "metadata": {},
   "source": [
    "### selanjutnya saya akan memeriksa nilai kosong yang ada pada data\n"
   ]
  },
  {
   "cell_type": "code",
   "execution_count": 15,
   "id": "cf7cf302-aa49-4a81-a96a-53651a59175c",
   "metadata": {},
   "outputs": [
    {
     "data": {
      "text/plain": [
       "Rank              0\n",
       "Name              0\n",
       "Type              0\n",
       "Tags            400\n",
       "Description       4\n",
       "staff          5490\n",
       "dtype: int64"
      ]
     },
     "execution_count": 15,
     "metadata": {},
     "output_type": "execute_result"
    }
   ],
   "source": [
    "data_m.isnull().sum()"
   ]
  },
  {
   "cell_type": "markdown",
   "id": "f6ba3053-35a7-4f04-a500-84b4574ab7bc",
   "metadata": {},
   "source": [
    "### kemudian saya akan menampilkan nilai data yang ada pada atribut \"type\""
   ]
  },
  {
   "cell_type": "code",
   "execution_count": 16,
   "id": "89f00512-ea13-43ce-870f-4d30d88e18a4",
   "metadata": {},
   "outputs": [
    {
     "data": {
      "text/plain": [
       "TV       5446\n",
       "Movie    3577\n",
       "Web      2488\n",
       "OVA      2235\n",
       "Music    2165\n",
       "Other     990\n",
       "DVD S     911\n",
       "TV Sp     683\n",
       "Name: Type, dtype: int64"
      ]
     },
     "execution_count": 16,
     "metadata": {},
     "output_type": "execute_result"
    }
   ],
   "source": [
    "data_m[\"Type\"].value_counts()"
   ]
  },
  {
   "cell_type": "markdown",
   "id": "4e97c6a0-f2cc-484a-ada0-597af35f92e7",
   "metadata": {},
   "source": [
    "## pada tahap ini saya akan melakukan cleaning pada data\n",
    "cleaning data merupakan proses untuk menghilangkan kesalahan, kekurangan, dan inkonsisten data yang digunakan dalam menganalisis meliputi tindakan untuk menghilangkan duplikasi, mengisi data yang hilang, dan menyelaraskan data yang hilang. cleaning data sangat penting karena data yang tidak bersih dapat menghasilkan data yang tidak akurat\n",
    "## variabel type dengan menghilangkan atribute mana saja yang sekiranya terdapat nilai kosong didalamnya"
   ]
  },
  {
   "cell_type": "code",
   "execution_count": 18,
   "id": "0a43ccb7-f7a1-4f62-bbc7-14f758b9193d",
   "metadata": {},
   "outputs": [
    {
     "data": {
      "text/html": [
       "<div>\n",
       "<style scoped>\n",
       "    .dataframe tbody tr th:only-of-type {\n",
       "        vertical-align: middle;\n",
       "    }\n",
       "\n",
       "    .dataframe tbody tr th {\n",
       "        vertical-align: top;\n",
       "    }\n",
       "\n",
       "    .dataframe thead th {\n",
       "        text-align: right;\n",
       "    }\n",
       "</style>\n",
       "<table border=\"1\" class=\"dataframe\">\n",
       "  <thead>\n",
       "    <tr style=\"text-align: right;\">\n",
       "      <th></th>\n",
       "      <th>Rank</th>\n",
       "      <th>Name</th>\n",
       "      <th>Type</th>\n",
       "      <th>Tags</th>\n",
       "      <th>Description</th>\n",
       "      <th>staff</th>\n",
       "    </tr>\n",
       "  </thead>\n",
       "  <tbody>\n",
       "    <tr>\n",
       "      <th>0</th>\n",
       "      <td>1</td>\n",
       "      <td>Demon Slayer: Kimetsu no Yaiba - Entertainment...</td>\n",
       "      <td>TV</td>\n",
       "      <td>Action, Adventure, Fantasy, Shounen, Demons, H...</td>\n",
       "      <td>'Tanjiro and his friends accompany the Hashira...</td>\n",
       "      <td>Koyoharu Gotouge : Original Creator, Haruo Sot...</td>\n",
       "    </tr>\n",
       "    <tr>\n",
       "      <th>1</th>\n",
       "      <td>2</td>\n",
       "      <td>Fruits Basket the Final Season</td>\n",
       "      <td>TV</td>\n",
       "      <td>Drama, Fantasy, Romance, Shoujo, Animal Transf...</td>\n",
       "      <td>'The final arc of Fruits Basket.'</td>\n",
       "      <td>Natsuki Takaya : Original Creator, Yoshihide I...</td>\n",
       "    </tr>\n",
       "    <tr>\n",
       "      <th>3</th>\n",
       "      <td>4</td>\n",
       "      <td>Fullmetal Alchemist: Brotherhood</td>\n",
       "      <td>TV</td>\n",
       "      <td>Action, Adventure, Drama, Fantasy, Mystery, Sh...</td>\n",
       "      <td>\"The foundation of alchemy is based on the law...</td>\n",
       "      <td>Hiromu Arakawa : Original Creator, Yasuhiro Ir...</td>\n",
       "    </tr>\n",
       "    <tr>\n",
       "      <th>4</th>\n",
       "      <td>5</td>\n",
       "      <td>Attack on Titan 3rd Season: Part II</td>\n",
       "      <td>TV</td>\n",
       "      <td>Action, Fantasy, Horror, Shounen, Dark Fantasy...</td>\n",
       "      <td>'The battle to retake Wall Maria begins now! W...</td>\n",
       "      <td>Hajime Isayama : Original Creator, Tetsurou Ar...</td>\n",
       "    </tr>\n",
       "    <tr>\n",
       "      <th>5</th>\n",
       "      <td>6</td>\n",
       "      <td>Jujutsu Kaisen</td>\n",
       "      <td>TV</td>\n",
       "      <td>Action, Horror, Shounen, Curse, Exorcists, Mon...</td>\n",
       "      <td>'Although Yuji Itadori looks like your average...</td>\n",
       "      <td>Gege Akutami : Original Creator, Seong-Hu Park...</td>\n",
       "    </tr>\n",
       "    <tr>\n",
       "      <th>...</th>\n",
       "      <td>...</td>\n",
       "      <td>...</td>\n",
       "      <td>...</td>\n",
       "      <td>...</td>\n",
       "      <td>...</td>\n",
       "      <td>...</td>\n",
       "    </tr>\n",
       "    <tr>\n",
       "      <th>18481</th>\n",
       "      <td>18482</td>\n",
       "      <td>Goblin Slayer 2</td>\n",
       "      <td>TV</td>\n",
       "      <td>Action, Adventure, Fantasy, Seinen, Dark Fanta...</td>\n",
       "      <td>It's fall, and the village's harvest festival ...</td>\n",
       "      <td>Kumo Kagyu : Original Creator</td>\n",
       "    </tr>\n",
       "    <tr>\n",
       "      <th>18488</th>\n",
       "      <td>18489</td>\n",
       "      <td>Shachiku-san wa Youjo Yuurei ni Iyasaretai.</td>\n",
       "      <td>TV</td>\n",
       "      <td>Comedy, Slice of Life, Ghosts, Iyashikei, Non-...</td>\n",
       "      <td>The story follows the daily life of Fushihara,...</td>\n",
       "      <td>Imari Arita : Original Creator</td>\n",
       "    </tr>\n",
       "    <tr>\n",
       "      <th>18491</th>\n",
       "      <td>18492</td>\n",
       "      <td>Yi Tang Juchang: Sanguo Yanyi</td>\n",
       "      <td>TV</td>\n",
       "      <td>Chinese Animation</td>\n",
       "      <td>No synopsis yet - check back soon!</td>\n",
       "      <td>NaN</td>\n",
       "    </tr>\n",
       "    <tr>\n",
       "      <th>18492</th>\n",
       "      <td>18493</td>\n",
       "      <td>Fenghuang Ji Xiang Yu Qingming Shanghe Tu</td>\n",
       "      <td>TV</td>\n",
       "      <td>Chinese Animation, Family Friendly, Short Epis...</td>\n",
       "      <td>No synopsis yet - check back soon!</td>\n",
       "      <td>NaN</td>\n",
       "    </tr>\n",
       "    <tr>\n",
       "      <th>18493</th>\n",
       "      <td>18494</td>\n",
       "      <td>Chengshi Jiyi Wo Men de Jieri</td>\n",
       "      <td>TV</td>\n",
       "      <td>Chinese Animation, Family Friendly, Short Epis...</td>\n",
       "      <td>No synopsis yet - check back soon!</td>\n",
       "      <td>NaN</td>\n",
       "    </tr>\n",
       "  </tbody>\n",
       "</table>\n",
       "<p>5446 rows × 6 columns</p>\n",
       "</div>"
      ],
      "text/plain": [
       "        Rank                                               Name   Type  \\\n",
       "0          1  Demon Slayer: Kimetsu no Yaiba - Entertainment...  TV      \n",
       "1          2                     Fruits Basket the Final Season  TV      \n",
       "3          4                   Fullmetal Alchemist: Brotherhood  TV      \n",
       "4          5                Attack on Titan 3rd Season: Part II  TV      \n",
       "5          6                                     Jujutsu Kaisen  TV      \n",
       "...      ...                                                ...    ...   \n",
       "18481  18482                                    Goblin Slayer 2  TV      \n",
       "18488  18489        Shachiku-san wa Youjo Yuurei ni Iyasaretai.  TV      \n",
       "18491  18492                      Yi Tang Juchang: Sanguo Yanyi  TV      \n",
       "18492  18493          Fenghuang Ji Xiang Yu Qingming Shanghe Tu  TV      \n",
       "18493  18494                      Chengshi Jiyi Wo Men de Jieri  TV      \n",
       "\n",
       "                                                    Tags  \\\n",
       "0      Action, Adventure, Fantasy, Shounen, Demons, H...   \n",
       "1      Drama, Fantasy, Romance, Shoujo, Animal Transf...   \n",
       "3      Action, Adventure, Drama, Fantasy, Mystery, Sh...   \n",
       "4      Action, Fantasy, Horror, Shounen, Dark Fantasy...   \n",
       "5      Action, Horror, Shounen, Curse, Exorcists, Mon...   \n",
       "...                                                  ...   \n",
       "18481  Action, Adventure, Fantasy, Seinen, Dark Fanta...   \n",
       "18488  Comedy, Slice of Life, Ghosts, Iyashikei, Non-...   \n",
       "18491                                  Chinese Animation   \n",
       "18492  Chinese Animation, Family Friendly, Short Epis...   \n",
       "18493  Chinese Animation, Family Friendly, Short Epis...   \n",
       "\n",
       "                                             Description  \\\n",
       "0      'Tanjiro and his friends accompany the Hashira...   \n",
       "1                      'The final arc of Fruits Basket.'   \n",
       "3      \"The foundation of alchemy is based on the law...   \n",
       "4      'The battle to retake Wall Maria begins now! W...   \n",
       "5      'Although Yuji Itadori looks like your average...   \n",
       "...                                                  ...   \n",
       "18481  It's fall, and the village's harvest festival ...   \n",
       "18488  The story follows the daily life of Fushihara,...   \n",
       "18491                 No synopsis yet - check back soon!   \n",
       "18492                 No synopsis yet - check back soon!   \n",
       "18493                 No synopsis yet - check back soon!   \n",
       "\n",
       "                                                   staff  \n",
       "0      Koyoharu Gotouge : Original Creator, Haruo Sot...  \n",
       "1      Natsuki Takaya : Original Creator, Yoshihide I...  \n",
       "3      Hiromu Arakawa : Original Creator, Yasuhiro Ir...  \n",
       "4      Hajime Isayama : Original Creator, Tetsurou Ar...  \n",
       "5      Gege Akutami : Original Creator, Seong-Hu Park...  \n",
       "...                                                  ...  \n",
       "18481                      Kumo Kagyu : Original Creator  \n",
       "18488                     Imari Arita : Original Creator  \n",
       "18491                                                NaN  \n",
       "18492                                                NaN  \n",
       "18493                                                NaN  \n",
       "\n",
       "[5446 rows x 6 columns]"
      ]
     },
     "execution_count": 18,
     "metadata": {},
     "output_type": "execute_result"
    }
   ],
   "source": [
    "data_m[data_m[\"Type\"] == \"TV   \"]"
   ]
  },
  {
   "cell_type": "markdown",
   "id": "432112db-a760-4bc5-8aca-4768b4dbfa34",
   "metadata": {},
   "source": [
    "### selanjutnya saya akan melakukan filter terhadap kolom \"type\" dengan menghapus NaN yang ada dan memasukkannya kembali ke dalam dataframe\n",
    "NaN adalah singkatan dari Not a Number, yang merupakan sebuah nilai yang digunakan untuk menunjukkan bahwa suatu operasi matematika tidak memiliki hasil yang valid. Nilai ini biasanya muncul dalam komputasi numerik ketika terjadi kesalahan atau tidak dapat menghasilkan hasil yang valid."
   ]
  },
  {
   "cell_type": "code",
   "execution_count": 19,
   "id": "91c7a040-836a-45d1-8387-3e7dd4c2767e",
   "metadata": {},
   "outputs": [],
   "source": [
    "temp = data_m[\"Type\"].apply(lambda x: [\" \".join(x.split()) for i in x])"
   ]
  },
  {
   "cell_type": "code",
   "execution_count": 20,
   "id": "5a577049-8dcc-43a7-97a9-3a9356fdcf08",
   "metadata": {},
   "outputs": [],
   "source": [
    "def type_(input):\n",
    "    L = []\n",
    "    for i in input:\n",
    "        L.append(i[0])\n",
    "    return L"
   ]
  },
  {
   "cell_type": "code",
   "execution_count": 21,
   "id": "fe61f062-677c-44af-9ad7-e7370d62dca5",
   "metadata": {},
   "outputs": [],
   "source": [
    "data_m[\"Type\"]= pd.Series(type_(temp))"
   ]
  },
  {
   "cell_type": "markdown",
   "id": "14f999eb-3fd3-44d7-980b-b0cbf3d818b4",
   "metadata": {},
   "source": [
    "### disini atribut tak bernilai yang tidak diperlukan telah hilang"
   ]
  },
  {
   "cell_type": "code",
   "execution_count": 22,
   "id": "6fce3d26-eafc-418f-9f9f-b8d49b92c4b3",
   "metadata": {},
   "outputs": [
    {
     "data": {
      "text/html": [
       "<div>\n",
       "<style scoped>\n",
       "    .dataframe tbody tr th:only-of-type {\n",
       "        vertical-align: middle;\n",
       "    }\n",
       "\n",
       "    .dataframe tbody tr th {\n",
       "        vertical-align: top;\n",
       "    }\n",
       "\n",
       "    .dataframe thead th {\n",
       "        text-align: right;\n",
       "    }\n",
       "</style>\n",
       "<table border=\"1\" class=\"dataframe\">\n",
       "  <thead>\n",
       "    <tr style=\"text-align: right;\">\n",
       "      <th></th>\n",
       "      <th>Rank</th>\n",
       "      <th>Name</th>\n",
       "      <th>Type</th>\n",
       "      <th>Tags</th>\n",
       "      <th>Description</th>\n",
       "      <th>staff</th>\n",
       "    </tr>\n",
       "  </thead>\n",
       "  <tbody>\n",
       "    <tr>\n",
       "      <th>0</th>\n",
       "      <td>1</td>\n",
       "      <td>Demon Slayer: Kimetsu no Yaiba - Entertainment...</td>\n",
       "      <td>TV</td>\n",
       "      <td>Action, Adventure, Fantasy, Shounen, Demons, H...</td>\n",
       "      <td>'Tanjiro and his friends accompany the Hashira...</td>\n",
       "      <td>Koyoharu Gotouge : Original Creator, Haruo Sot...</td>\n",
       "    </tr>\n",
       "    <tr>\n",
       "      <th>1</th>\n",
       "      <td>2</td>\n",
       "      <td>Fruits Basket the Final Season</td>\n",
       "      <td>TV</td>\n",
       "      <td>Drama, Fantasy, Romance, Shoujo, Animal Transf...</td>\n",
       "      <td>'The final arc of Fruits Basket.'</td>\n",
       "      <td>Natsuki Takaya : Original Creator, Yoshihide I...</td>\n",
       "    </tr>\n",
       "    <tr>\n",
       "      <th>3</th>\n",
       "      <td>4</td>\n",
       "      <td>Fullmetal Alchemist: Brotherhood</td>\n",
       "      <td>TV</td>\n",
       "      <td>Action, Adventure, Drama, Fantasy, Mystery, Sh...</td>\n",
       "      <td>\"The foundation of alchemy is based on the law...</td>\n",
       "      <td>Hiromu Arakawa : Original Creator, Yasuhiro Ir...</td>\n",
       "    </tr>\n",
       "    <tr>\n",
       "      <th>4</th>\n",
       "      <td>5</td>\n",
       "      <td>Attack on Titan 3rd Season: Part II</td>\n",
       "      <td>TV</td>\n",
       "      <td>Action, Fantasy, Horror, Shounen, Dark Fantasy...</td>\n",
       "      <td>'The battle to retake Wall Maria begins now! W...</td>\n",
       "      <td>Hajime Isayama : Original Creator, Tetsurou Ar...</td>\n",
       "    </tr>\n",
       "    <tr>\n",
       "      <th>5</th>\n",
       "      <td>6</td>\n",
       "      <td>Jujutsu Kaisen</td>\n",
       "      <td>TV</td>\n",
       "      <td>Action, Horror, Shounen, Curse, Exorcists, Mon...</td>\n",
       "      <td>'Although Yuji Itadori looks like your average...</td>\n",
       "      <td>Gege Akutami : Original Creator, Seong-Hu Park...</td>\n",
       "    </tr>\n",
       "    <tr>\n",
       "      <th>...</th>\n",
       "      <td>...</td>\n",
       "      <td>...</td>\n",
       "      <td>...</td>\n",
       "      <td>...</td>\n",
       "      <td>...</td>\n",
       "      <td>...</td>\n",
       "    </tr>\n",
       "    <tr>\n",
       "      <th>18481</th>\n",
       "      <td>18482</td>\n",
       "      <td>Goblin Slayer 2</td>\n",
       "      <td>TV</td>\n",
       "      <td>Action, Adventure, Fantasy, Seinen, Dark Fanta...</td>\n",
       "      <td>It's fall, and the village's harvest festival ...</td>\n",
       "      <td>Kumo Kagyu : Original Creator</td>\n",
       "    </tr>\n",
       "    <tr>\n",
       "      <th>18488</th>\n",
       "      <td>18489</td>\n",
       "      <td>Shachiku-san wa Youjo Yuurei ni Iyasaretai.</td>\n",
       "      <td>TV</td>\n",
       "      <td>Comedy, Slice of Life, Ghosts, Iyashikei, Non-...</td>\n",
       "      <td>The story follows the daily life of Fushihara,...</td>\n",
       "      <td>Imari Arita : Original Creator</td>\n",
       "    </tr>\n",
       "    <tr>\n",
       "      <th>18491</th>\n",
       "      <td>18492</td>\n",
       "      <td>Yi Tang Juchang: Sanguo Yanyi</td>\n",
       "      <td>TV</td>\n",
       "      <td>Chinese Animation</td>\n",
       "      <td>No synopsis yet - check back soon!</td>\n",
       "      <td>NaN</td>\n",
       "    </tr>\n",
       "    <tr>\n",
       "      <th>18492</th>\n",
       "      <td>18493</td>\n",
       "      <td>Fenghuang Ji Xiang Yu Qingming Shanghe Tu</td>\n",
       "      <td>TV</td>\n",
       "      <td>Chinese Animation, Family Friendly, Short Epis...</td>\n",
       "      <td>No synopsis yet - check back soon!</td>\n",
       "      <td>NaN</td>\n",
       "    </tr>\n",
       "    <tr>\n",
       "      <th>18493</th>\n",
       "      <td>18494</td>\n",
       "      <td>Chengshi Jiyi Wo Men de Jieri</td>\n",
       "      <td>TV</td>\n",
       "      <td>Chinese Animation, Family Friendly, Short Epis...</td>\n",
       "      <td>No synopsis yet - check back soon!</td>\n",
       "      <td>NaN</td>\n",
       "    </tr>\n",
       "  </tbody>\n",
       "</table>\n",
       "<p>5446 rows × 6 columns</p>\n",
       "</div>"
      ],
      "text/plain": [
       "        Rank                                               Name Type  \\\n",
       "0          1  Demon Slayer: Kimetsu no Yaiba - Entertainment...   TV   \n",
       "1          2                     Fruits Basket the Final Season   TV   \n",
       "3          4                   Fullmetal Alchemist: Brotherhood   TV   \n",
       "4          5                Attack on Titan 3rd Season: Part II   TV   \n",
       "5          6                                     Jujutsu Kaisen   TV   \n",
       "...      ...                                                ...  ...   \n",
       "18481  18482                                    Goblin Slayer 2   TV   \n",
       "18488  18489        Shachiku-san wa Youjo Yuurei ni Iyasaretai.   TV   \n",
       "18491  18492                      Yi Tang Juchang: Sanguo Yanyi   TV   \n",
       "18492  18493          Fenghuang Ji Xiang Yu Qingming Shanghe Tu   TV   \n",
       "18493  18494                      Chengshi Jiyi Wo Men de Jieri   TV   \n",
       "\n",
       "                                                    Tags  \\\n",
       "0      Action, Adventure, Fantasy, Shounen, Demons, H...   \n",
       "1      Drama, Fantasy, Romance, Shoujo, Animal Transf...   \n",
       "3      Action, Adventure, Drama, Fantasy, Mystery, Sh...   \n",
       "4      Action, Fantasy, Horror, Shounen, Dark Fantasy...   \n",
       "5      Action, Horror, Shounen, Curse, Exorcists, Mon...   \n",
       "...                                                  ...   \n",
       "18481  Action, Adventure, Fantasy, Seinen, Dark Fanta...   \n",
       "18488  Comedy, Slice of Life, Ghosts, Iyashikei, Non-...   \n",
       "18491                                  Chinese Animation   \n",
       "18492  Chinese Animation, Family Friendly, Short Epis...   \n",
       "18493  Chinese Animation, Family Friendly, Short Epis...   \n",
       "\n",
       "                                             Description  \\\n",
       "0      'Tanjiro and his friends accompany the Hashira...   \n",
       "1                      'The final arc of Fruits Basket.'   \n",
       "3      \"The foundation of alchemy is based on the law...   \n",
       "4      'The battle to retake Wall Maria begins now! W...   \n",
       "5      'Although Yuji Itadori looks like your average...   \n",
       "...                                                  ...   \n",
       "18481  It's fall, and the village's harvest festival ...   \n",
       "18488  The story follows the daily life of Fushihara,...   \n",
       "18491                 No synopsis yet - check back soon!   \n",
       "18492                 No synopsis yet - check back soon!   \n",
       "18493                 No synopsis yet - check back soon!   \n",
       "\n",
       "                                                   staff  \n",
       "0      Koyoharu Gotouge : Original Creator, Haruo Sot...  \n",
       "1      Natsuki Takaya : Original Creator, Yoshihide I...  \n",
       "3      Hiromu Arakawa : Original Creator, Yasuhiro Ir...  \n",
       "4      Hajime Isayama : Original Creator, Tetsurou Ar...  \n",
       "5      Gege Akutami : Original Creator, Seong-Hu Park...  \n",
       "...                                                  ...  \n",
       "18481                      Kumo Kagyu : Original Creator  \n",
       "18488                     Imari Arita : Original Creator  \n",
       "18491                                                NaN  \n",
       "18492                                                NaN  \n",
       "18493                                                NaN  \n",
       "\n",
       "[5446 rows x 6 columns]"
      ]
     },
     "execution_count": 22,
     "metadata": {},
     "output_type": "execute_result"
    }
   ],
   "source": [
    "data_m[data_m[\"Type\"] == \"TV\"]"
   ]
  },
  {
   "cell_type": "markdown",
   "id": "24d23b02-94b3-4289-9f95-0d01d2ebdfb9",
   "metadata": {},
   "source": [
    "### dilanjutkan untuk melakukan observasi tanpa tags dan description yang sekiranya tidak perlu digunakan"
   ]
  },
  {
   "cell_type": "code",
   "execution_count": 23,
   "id": "a8aca9ce-ef34-4a7b-9cd8-605454e47d31",
   "metadata": {},
   "outputs": [],
   "source": [
    "filtering_1 = data_m[ (data_m[\"Description\"] == \"'No synopsis yet - check back soon!'\") & (data_m[\"Tags\"].isnull())].index\n",
    "data_m = data_m.drop(filtering_1)"
   ]
  },
  {
   "cell_type": "code",
   "execution_count": 24,
   "id": "32436bc7-a441-4626-ade7-01713061c687",
   "metadata": {},
   "outputs": [
    {
     "data": {
      "text/plain": [
       "Rank              0\n",
       "Name              0\n",
       "Type              0\n",
       "Tags            267\n",
       "Description       4\n",
       "staff          5451\n",
       "dtype: int64"
      ]
     },
     "execution_count": 24,
     "metadata": {},
     "output_type": "execute_result"
    }
   ],
   "source": [
    "data_m.isnull().sum()"
   ]
  },
  {
   "cell_type": "markdown",
   "id": "401d1b38-11d9-4a85-8bef-1657ee6e23a3",
   "metadata": {},
   "source": [
    "### selanjutnya saya akan mencoba untuk melakukan drop pada tipe music, ova, tv sp. hal ini dikarenakan kebanyakan merupakan anime filler"
   ]
  },
  {
   "cell_type": "code",
   "execution_count": 25,
   "id": "0a2606b9-d9df-4b36-b6a8-4166623f1f62",
   "metadata": {},
   "outputs": [],
   "source": [
    "filtering_2 = data_m[ (data_m[\"Type\"] == \"Music\") | (data_m[\"Type\"] == \"OVA\") | (data_m[\"Type\"] == \"TV Sp\")].index\n",
    "data_m.drop(filtering_2,inplace = True)"
   ]
  },
  {
   "cell_type": "code",
   "execution_count": 26,
   "id": "97652d9c-5184-43eb-9836-10f60c97aa44",
   "metadata": {},
   "outputs": [
    {
     "data": {
      "text/plain": [
       "Rank              0\n",
       "Name              0\n",
       "Type              0\n",
       "Tags             31\n",
       "Description       4\n",
       "staff          4322\n",
       "dtype: int64"
      ]
     },
     "execution_count": 26,
     "metadata": {},
     "output_type": "execute_result"
    }
   ],
   "source": [
    "data_m.isnull().sum()"
   ]
  },
  {
   "cell_type": "code",
   "execution_count": 27,
   "id": "df427bd2-bcc1-4e05-ac60-c35a49c510f9",
   "metadata": {},
   "outputs": [],
   "source": [
    "filtering_3 = data_m[ (data_m[\"Description\"] == \"No synopsis yet - check back soon!\") & (data_m[\"Tags\"].isnull())].index\n",
    "data_m.drop(filtering_3,inplace=True)"
   ]
  },
  {
   "cell_type": "code",
   "execution_count": 28,
   "id": "52ad2408-acc2-41bf-a2ba-06a375d9b4e5",
   "metadata": {},
   "outputs": [
    {
     "data": {
      "text/html": [
       "<div>\n",
       "<style scoped>\n",
       "    .dataframe tbody tr th:only-of-type {\n",
       "        vertical-align: middle;\n",
       "    }\n",
       "\n",
       "    .dataframe tbody tr th {\n",
       "        vertical-align: top;\n",
       "    }\n",
       "\n",
       "    .dataframe thead th {\n",
       "        text-align: right;\n",
       "    }\n",
       "</style>\n",
       "<table border=\"1\" class=\"dataframe\">\n",
       "  <thead>\n",
       "    <tr style=\"text-align: right;\">\n",
       "      <th></th>\n",
       "      <th>Rank</th>\n",
       "      <th>Name</th>\n",
       "      <th>Type</th>\n",
       "      <th>Tags</th>\n",
       "      <th>Description</th>\n",
       "      <th>staff</th>\n",
       "    </tr>\n",
       "  </thead>\n",
       "  <tbody>\n",
       "    <tr>\n",
       "      <th>7910</th>\n",
       "      <td>7911</td>\n",
       "      <td>Himitsu no Akko-chan Movie</td>\n",
       "      <td>Movie</td>\n",
       "      <td>NaN</td>\n",
       "      <td>\"Taisho's father plans to construct an apartme...</td>\n",
       "      <td>Fujio Akatsuka : Original Creator, Hiroki Shib...</td>\n",
       "    </tr>\n",
       "    <tr>\n",
       "      <th>8325</th>\n",
       "      <td>8326</td>\n",
       "      <td>Himitsu no Akko-chan: Umi da! Obake da!! Natsu...</td>\n",
       "      <td>Movie</td>\n",
       "      <td>NaN</td>\n",
       "      <td>\"Akko spends a summer with her friends at her ...</td>\n",
       "      <td>Fujio Akatsuka : Original Creator, Hiroki Shib...</td>\n",
       "    </tr>\n",
       "    <tr>\n",
       "      <th>8341</th>\n",
       "      <td>8342</td>\n",
       "      <td>Nanaka 6/17: Ojamana Nanaka</td>\n",
       "      <td>DVD S</td>\n",
       "      <td>NaN</td>\n",
       "      <td>'Unaired episode included in the DVD release o...</td>\n",
       "      <td>NaN</td>\n",
       "    </tr>\n",
       "    <tr>\n",
       "      <th>10185</th>\n",
       "      <td>10186</td>\n",
       "      <td>Tobe! Kujira no Peek</td>\n",
       "      <td>Movie</td>\n",
       "      <td>NaN</td>\n",
       "      <td>'The story of an albino whale used in a circus...</td>\n",
       "      <td>Kouji Morimoto : Director, Satoru Utsunomiya :...</td>\n",
       "    </tr>\n",
       "  </tbody>\n",
       "</table>\n",
       "</div>"
      ],
      "text/plain": [
       "        Rank                                               Name   Type Tags  \\\n",
       "7910    7911                         Himitsu no Akko-chan Movie  Movie  NaN   \n",
       "8325    8326  Himitsu no Akko-chan: Umi da! Obake da!! Natsu...  Movie  NaN   \n",
       "8341    8342                        Nanaka 6/17: Ojamana Nanaka  DVD S  NaN   \n",
       "10185  10186                               Tobe! Kujira no Peek  Movie  NaN   \n",
       "\n",
       "                                             Description  \\\n",
       "7910   \"Taisho's father plans to construct an apartme...   \n",
       "8325   \"Akko spends a summer with her friends at her ...   \n",
       "8341   'Unaired episode included in the DVD release o...   \n",
       "10185  'The story of an albino whale used in a circus...   \n",
       "\n",
       "                                                   staff  \n",
       "7910   Fujio Akatsuka : Original Creator, Hiroki Shib...  \n",
       "8325   Fujio Akatsuka : Original Creator, Hiroki Shib...  \n",
       "8341                                                 NaN  \n",
       "10185  Kouji Morimoto : Director, Satoru Utsunomiya :...  "
      ]
     },
     "execution_count": 28,
     "metadata": {},
     "output_type": "execute_result"
    }
   ],
   "source": [
    "data_m[data_m[\"Tags\"].isnull()]"
   ]
  },
  {
   "cell_type": "markdown",
   "id": "7248c3bb-d9ee-456d-84b9-fc3f52464b01",
   "metadata": {},
   "source": [
    "## pada kali ini atribute \"tags\" memiliki peran yang penting dalam pemilihan rekomendasi anime dengan observasi rank 7911, 8325, 8342, 10186 akan dihapus"
   ]
  },
  {
   "cell_type": "code",
   "execution_count": 29,
   "id": "9ec3d22a-39a8-4f87-bede-b5512442363f",
   "metadata": {},
   "outputs": [],
   "source": [
    "filtering_4 = data_m[data_m[\"Tags\"].isnull()].index\n",
    "data_m.drop(filtering_4,inplace=True)"
   ]
  },
  {
   "cell_type": "code",
   "execution_count": 30,
   "id": "8bf0c1eb-cd0d-44a9-9971-49b4b4d5b250",
   "metadata": {},
   "outputs": [
    {
     "data": {
      "text/plain": [
       "Rank              0\n",
       "Name              0\n",
       "Type              0\n",
       "Tags              0\n",
       "Description       4\n",
       "staff          4300\n",
       "dtype: int64"
      ]
     },
     "execution_count": 30,
     "metadata": {},
     "output_type": "execute_result"
    }
   ],
   "source": [
    "data_m.isnull().sum()"
   ]
  },
  {
   "cell_type": "code",
   "execution_count": 31,
   "id": "15f80fd9-9ef2-41b8-923c-63cd6001d72c",
   "metadata": {},
   "outputs": [
    {
     "name": "stdout",
     "output_type": "stream",
     "text": [
      "<class 'pandas.core.frame.DataFrame'>\n",
      "Int64Index: 13356 entries, 0 to 18494\n",
      "Data columns (total 6 columns):\n",
      " #   Column       Non-Null Count  Dtype \n",
      "---  ------       --------------  ----- \n",
      " 0   Rank         13356 non-null  int64 \n",
      " 1   Name         13356 non-null  object\n",
      " 2   Type         13356 non-null  object\n",
      " 3   Tags         13356 non-null  object\n",
      " 4   Description  13352 non-null  object\n",
      " 5   staff        9056 non-null   object\n",
      "dtypes: int64(1), object(5)\n",
      "memory usage: 730.4+ KB\n"
     ]
    }
   ],
   "source": [
    "data_m.info()"
   ]
  },
  {
   "cell_type": "markdown",
   "id": "e615d91d-5900-4c31-95b3-282a1435a231",
   "metadata": {},
   "source": [
    "### pada description column, kita bisa melihat bahwa tidak semua data memiliki description. maka dari itu dilakukan drop"
   ]
  },
  {
   "cell_type": "code",
   "execution_count": 32,
   "id": "5820043e-0c74-4a1f-a5f8-3f5d2410aa46",
   "metadata": {},
   "outputs": [],
   "source": [
    "data_m.drop(\"Description\", axis=1, inplace=True)"
   ]
  },
  {
   "cell_type": "code",
   "execution_count": 33,
   "id": "44d539e4-7020-4d8c-a50a-713e5cc96285",
   "metadata": {},
   "outputs": [
    {
     "name": "stdout",
     "output_type": "stream",
     "text": [
      "<class 'pandas.core.frame.DataFrame'>\n",
      "Int64Index: 13356 entries, 0 to 18494\n",
      "Data columns (total 5 columns):\n",
      " #   Column  Non-Null Count  Dtype \n",
      "---  ------  --------------  ----- \n",
      " 0   Rank    13356 non-null  int64 \n",
      " 1   Name    13356 non-null  object\n",
      " 2   Type    13356 non-null  object\n",
      " 3   Tags    13356 non-null  object\n",
      " 4   staff   9056 non-null   object\n",
      "dtypes: int64(1), object(4)\n",
      "memory usage: 626.1+ KB\n"
     ]
    }
   ],
   "source": [
    "data_m.info()"
   ]
  },
  {
   "cell_type": "markdown",
   "id": "6528df5d-5857-4f0e-865a-401d5bd15467",
   "metadata": {},
   "source": [
    "### setelah mengamati variabel staff, saya menemukan terdapat 5490 missing value. maka dari itu kita hanya akan mengambil observasi dengan variabel staff yang berisikan nama asli penciptanya"
   ]
  },
  {
   "cell_type": "code",
   "execution_count": 34,
   "id": "da78178b-df92-4ca9-a142-643abc3d74ee",
   "metadata": {},
   "outputs": [
    {
     "data": {
      "text/plain": [
       "4300"
      ]
     },
     "execution_count": 34,
     "metadata": {},
     "output_type": "execute_result"
    }
   ],
   "source": [
    "data_m[\"staff\"].isna().sum()"
   ]
  },
  {
   "cell_type": "markdown",
   "id": "6d1d166d-1419-404d-afed-7eb6dc70c412",
   "metadata": {},
   "source": [
    "### selanjutnya akan dilakukan filtering terhadap variabel staff"
   ]
  },
  {
   "cell_type": "code",
   "execution_count": 35,
   "id": "6fa19729-9a9b-42d2-8235-5bdb71dda8e1",
   "metadata": {},
   "outputs": [],
   "source": [
    "\n",
    "data_m_mini = data_m[data_m[\"staff\"].notnull()]"
   ]
  },
  {
   "cell_type": "code",
   "execution_count": 36,
   "id": "0f90b092-633c-41fe-add3-1a95724998f9",
   "metadata": {},
   "outputs": [
    {
     "name": "stdout",
     "output_type": "stream",
     "text": [
      "<class 'pandas.core.frame.DataFrame'>\n",
      "Int64Index: 9056 entries, 0 to 18489\n",
      "Data columns (total 5 columns):\n",
      " #   Column  Non-Null Count  Dtype \n",
      "---  ------  --------------  ----- \n",
      " 0   Rank    9056 non-null   int64 \n",
      " 1   Name    9056 non-null   object\n",
      " 2   Type    9056 non-null   object\n",
      " 3   Tags    9056 non-null   object\n",
      " 4   staff   9056 non-null   object\n",
      "dtypes: int64(1), object(4)\n",
      "memory usage: 424.5+ KB\n"
     ]
    }
   ],
   "source": [
    "data_m_mini.info()"
   ]
  },
  {
   "cell_type": "code",
   "execution_count": 37,
   "id": "14150dec-4631-4046-abd2-6183df70354f",
   "metadata": {},
   "outputs": [
    {
     "data": {
      "text/plain": [
       "'Koyoharu Gotouge : Original Creator, Haruo Sotozaki : Director, Akira Matsushima : Character Design, Aimer : Song Performance'"
      ]
     },
     "execution_count": 37,
     "metadata": {},
     "output_type": "execute_result"
    }
   ],
   "source": [
    "data_m_mini[\"staff\"][0]"
   ]
  },
  {
   "cell_type": "code",
   "execution_count": 38,
   "id": "0060f5db-ef0c-4334-a8f2-91d3d459ca01",
   "metadata": {},
   "outputs": [
    {
     "data": {
      "text/plain": [
       "'Natsuki Takaya : Original Creator, Yoshihide Ibata : Director & Episode Director & Storyboard, Taku Kishimoto : Screenplay & Series Composition, Masaru Yokoyama : Music, Masaru Shindou : Character Design & Chief Animation Director, Baek-Ryun Chae : Photography Director, Youko Koyama : Art Director, Mika Sugawara : Color Design'"
      ]
     },
     "execution_count": 38,
     "metadata": {},
     "output_type": "execute_result"
    }
   ],
   "source": [
    "data_m_mini[\"staff\"][1]"
   ]
  },
  {
   "cell_type": "code",
   "execution_count": 39,
   "id": "6b95714a-1d9b-4398-a052-8f59dc59d55b",
   "metadata": {},
   "outputs": [
    {
     "data": {
      "text/html": [
       "<div>\n",
       "<style scoped>\n",
       "    .dataframe tbody tr th:only-of-type {\n",
       "        vertical-align: middle;\n",
       "    }\n",
       "\n",
       "    .dataframe tbody tr th {\n",
       "        vertical-align: top;\n",
       "    }\n",
       "\n",
       "    .dataframe thead th {\n",
       "        text-align: right;\n",
       "    }\n",
       "</style>\n",
       "<table border=\"1\" class=\"dataframe\">\n",
       "  <thead>\n",
       "    <tr style=\"text-align: right;\">\n",
       "      <th></th>\n",
       "      <th>Rank</th>\n",
       "      <th>Name</th>\n",
       "      <th>Type</th>\n",
       "      <th>Tags</th>\n",
       "      <th>staff</th>\n",
       "    </tr>\n",
       "  </thead>\n",
       "  <tbody>\n",
       "    <tr>\n",
       "      <th>0</th>\n",
       "      <td>1</td>\n",
       "      <td>Demon Slayer: Kimetsu no Yaiba - Entertainment...</td>\n",
       "      <td>TV</td>\n",
       "      <td>Action, Adventure, Fantasy, Shounen, Demons, H...</td>\n",
       "      <td>Koyoharu Gotouge : Original Creator, Haruo Sot...</td>\n",
       "    </tr>\n",
       "    <tr>\n",
       "      <th>1</th>\n",
       "      <td>2</td>\n",
       "      <td>Fruits Basket the Final Season</td>\n",
       "      <td>TV</td>\n",
       "      <td>Drama, Fantasy, Romance, Shoujo, Animal Transf...</td>\n",
       "      <td>Natsuki Takaya : Original Creator, Yoshihide I...</td>\n",
       "    </tr>\n",
       "    <tr>\n",
       "      <th>2</th>\n",
       "      <td>3</td>\n",
       "      <td>Mo Dao Zu Shi 3</td>\n",
       "      <td>Web</td>\n",
       "      <td>Fantasy, Ancient China, Chinese Animation, Cul...</td>\n",
       "      <td>Mo Xiang Tong Xiu : Original Creator, Xiong Ke...</td>\n",
       "    </tr>\n",
       "    <tr>\n",
       "      <th>3</th>\n",
       "      <td>4</td>\n",
       "      <td>Fullmetal Alchemist: Brotherhood</td>\n",
       "      <td>TV</td>\n",
       "      <td>Action, Adventure, Drama, Fantasy, Mystery, Sh...</td>\n",
       "      <td>Hiromu Arakawa : Original Creator, Yasuhiro Ir...</td>\n",
       "    </tr>\n",
       "    <tr>\n",
       "      <th>4</th>\n",
       "      <td>5</td>\n",
       "      <td>Attack on Titan 3rd Season: Part II</td>\n",
       "      <td>TV</td>\n",
       "      <td>Action, Fantasy, Horror, Shounen, Dark Fantasy...</td>\n",
       "      <td>Hajime Isayama : Original Creator, Tetsurou Ar...</td>\n",
       "    </tr>\n",
       "    <tr>\n",
       "      <th>...</th>\n",
       "      <td>...</td>\n",
       "      <td>...</td>\n",
       "      <td>...</td>\n",
       "      <td>...</td>\n",
       "      <td>...</td>\n",
       "    </tr>\n",
       "    <tr>\n",
       "      <th>18484</th>\n",
       "      <td>18485</td>\n",
       "      <td>Tooriame</td>\n",
       "      <td>Movie</td>\n",
       "      <td>Abstract, Shorts</td>\n",
       "      <td>Tomoko Takayama : Director, Juri Ito : Music, ...</td>\n",
       "    </tr>\n",
       "    <tr>\n",
       "      <th>18486</th>\n",
       "      <td>18487</td>\n",
       "      <td>Better back then</td>\n",
       "      <td>Movie</td>\n",
       "      <td>Shorts, Stop Motion Animation, Original Work</td>\n",
       "      <td>Naoaki Shibuta : Director, Chikara Uemizutaru ...</td>\n",
       "    </tr>\n",
       "    <tr>\n",
       "      <th>18487</th>\n",
       "      <td>18488</td>\n",
       "      <td>Make My Day</td>\n",
       "      <td>Web</td>\n",
       "      <td>Horror, Monsters, Original Work</td>\n",
       "      <td>Yasuo Ootagaki : Original Creator, Makoto Kane...</td>\n",
       "    </tr>\n",
       "    <tr>\n",
       "      <th>18488</th>\n",
       "      <td>18489</td>\n",
       "      <td>Shachiku-san wa Youjo Yuurei ni Iyasaretai.</td>\n",
       "      <td>TV</td>\n",
       "      <td>Comedy, Slice of Life, Ghosts, Iyashikei, Non-...</td>\n",
       "      <td>Imari Arita : Original Creator</td>\n",
       "    </tr>\n",
       "    <tr>\n",
       "      <th>18489</th>\n",
       "      <td>18490</td>\n",
       "      <td>Nostalgia</td>\n",
       "      <td>Movie</td>\n",
       "      <td>Drama, No Dialogue, Shorts, Stop Motion Animation</td>\n",
       "      <td>Tomoyasu Murata : Director</td>\n",
       "    </tr>\n",
       "  </tbody>\n",
       "</table>\n",
       "<p>9056 rows × 5 columns</p>\n",
       "</div>"
      ],
      "text/plain": [
       "        Rank                                               Name   Type  \\\n",
       "0          1  Demon Slayer: Kimetsu no Yaiba - Entertainment...     TV   \n",
       "1          2                     Fruits Basket the Final Season     TV   \n",
       "2          3                                    Mo Dao Zu Shi 3    Web   \n",
       "3          4                   Fullmetal Alchemist: Brotherhood     TV   \n",
       "4          5                Attack on Titan 3rd Season: Part II     TV   \n",
       "...      ...                                                ...    ...   \n",
       "18484  18485                                           Tooriame  Movie   \n",
       "18486  18487                                   Better back then  Movie   \n",
       "18487  18488                                        Make My Day    Web   \n",
       "18488  18489        Shachiku-san wa Youjo Yuurei ni Iyasaretai.     TV   \n",
       "18489  18490                                          Nostalgia  Movie   \n",
       "\n",
       "                                                    Tags  \\\n",
       "0      Action, Adventure, Fantasy, Shounen, Demons, H...   \n",
       "1      Drama, Fantasy, Romance, Shoujo, Animal Transf...   \n",
       "2      Fantasy, Ancient China, Chinese Animation, Cul...   \n",
       "3      Action, Adventure, Drama, Fantasy, Mystery, Sh...   \n",
       "4      Action, Fantasy, Horror, Shounen, Dark Fantasy...   \n",
       "...                                                  ...   \n",
       "18484                                   Abstract, Shorts   \n",
       "18486       Shorts, Stop Motion Animation, Original Work   \n",
       "18487                    Horror, Monsters, Original Work   \n",
       "18488  Comedy, Slice of Life, Ghosts, Iyashikei, Non-...   \n",
       "18489  Drama, No Dialogue, Shorts, Stop Motion Animation   \n",
       "\n",
       "                                                   staff  \n",
       "0      Koyoharu Gotouge : Original Creator, Haruo Sot...  \n",
       "1      Natsuki Takaya : Original Creator, Yoshihide I...  \n",
       "2      Mo Xiang Tong Xiu : Original Creator, Xiong Ke...  \n",
       "3      Hiromu Arakawa : Original Creator, Yasuhiro Ir...  \n",
       "4      Hajime Isayama : Original Creator, Tetsurou Ar...  \n",
       "...                                                  ...  \n",
       "18484  Tomoko Takayama : Director, Juri Ito : Music, ...  \n",
       "18486  Naoaki Shibuta : Director, Chikara Uemizutaru ...  \n",
       "18487  Yasuo Ootagaki : Original Creator, Makoto Kane...  \n",
       "18488                     Imari Arita : Original Creator  \n",
       "18489                         Tomoyasu Murata : Director  \n",
       "\n",
       "[9056 rows x 5 columns]"
      ]
     },
     "execution_count": 39,
     "metadata": {},
     "output_type": "execute_result"
    }
   ],
   "source": [
    "data_m_mini"
   ]
  },
  {
   "cell_type": "markdown",
   "id": "1173189a-addc-44a5-bc47-e58e7b92bdbc",
   "metadata": {},
   "source": [
    "### langkah selanjutnya adalah melakukan reset index untuk melakukan konversi terhadap staff dari series str ke dict\n",
    "dict adalah tipe data di Python yang merupakan sebuah tipe data koleksi (collection) yang terdiri dari pasangan key-value. Key merupakan identifier unik dari setiap value.\n",
    "\n",
    "Sedangkan str adalah tipe data di Python yang merupakan representasi dari string atau teks."
   ]
  },
  {
   "cell_type": "code",
   "execution_count": 40,
   "id": "92b4b64c-8b96-4f39-a9b6-24ab7a20de1b",
   "metadata": {},
   "outputs": [],
   "source": [
    "data_m_mini.reset_index(inplace = True)"
   ]
  },
  {
   "cell_type": "markdown",
   "id": "fc441765-6725-4df8-b584-17a8f2e7f7f1",
   "metadata": {},
   "source": [
    "### convert ke dict"
   ]
  },
  {
   "cell_type": "code",
   "execution_count": 41,
   "id": "7701cd3b-f009-409a-a9a2-3b5f50b9fbf9",
   "metadata": {},
   "outputs": [
    {
     "name": "stdout",
     "output_type": "stream",
     "text": [
      "{'Natsuki Takaya': 'Original Creator', 'Yoshihide Ibata': 'Director & Episode Director & Storyboard', 'Taku Kishimoto': 'Screenplay & Series Composition', 'Masaru Yokoyama': 'Music', 'Masaru Shindou': 'Character Design & Chief Animation Director', 'Baek-Ryun Chae': 'Photography Director', 'Youko Koyama': 'Art Director', 'Mika Sugawara': 'Color Design'}\n"
     ]
    }
   ],
   "source": [
    "try_1 = data_m_mini[\"staff\"][1].split(\",\")\n",
    "try_1 = {k.split(\":\")[0].strip() : k.split(\":\")[1].strip() for k in try_1}\n",
    "print(try_1)"
   ]
  },
  {
   "cell_type": "markdown",
   "id": "e151db8a-bb2d-4bf2-9cd9-798b9a9fe79c",
   "metadata": {},
   "source": [
    "### series str ke dict"
   ]
  },
  {
   "cell_type": "code",
   "execution_count": 42,
   "id": "3eeb5e5c-0fd8-4d79-8503-d530d61937c5",
   "metadata": {},
   "outputs": [
    {
     "name": "stderr",
     "output_type": "stream",
     "text": [
      "C:\\Users\\acer\\AppData\\Local\\Temp\\ipykernel_1608\\793470206.py:3: SettingWithCopyWarning: \n",
      "A value is trying to be set on a copy of a slice from a DataFrame\n",
      "\n",
      "See the caveats in the documentation: https://pandas.pydata.org/pandas-docs/stable/user_guide/indexing.html#returning-a-view-versus-a-copy\n",
      "  data_m_mini[\"staff\"][i] = {k.split(\":\")[0].strip() : k.split(\":\")[1].strip() for k in try_1}\n"
     ]
    }
   ],
   "source": [
    "for i in range (0,len(data_m_mini[\"staff\"])):\n",
    "    try_1 = data_m_mini[\"staff\"][i].split(\",\")\n",
    "    data_m_mini[\"staff\"][i] = {k.split(\":\")[0].strip() : k.split(\":\")[1].strip() for k in try_1}"
   ]
  },
  {
   "cell_type": "code",
   "execution_count": 43,
   "id": "37de75dc-c7d3-41fe-999f-46a8158b8833",
   "metadata": {},
   "outputs": [
    {
     "data": {
      "text/plain": [
       "{'Natsuki Takaya': 'Original Creator',\n",
       " 'Yoshihide Ibata': 'Director & Episode Director & Storyboard',\n",
       " 'Taku Kishimoto': 'Screenplay & Series Composition',\n",
       " 'Masaru Yokoyama': 'Music',\n",
       " 'Masaru Shindou': 'Character Design & Chief Animation Director',\n",
       " 'Baek-Ryun Chae': 'Photography Director',\n",
       " 'Youko Koyama': 'Art Director',\n",
       " 'Mika Sugawara': 'Color Design'}"
      ]
     },
     "execution_count": 43,
     "metadata": {},
     "output_type": "execute_result"
    }
   ],
   "source": [
    "data_m_mini[\"staff\"][1]"
   ]
  },
  {
   "cell_type": "code",
   "execution_count": 44,
   "id": "a7eb0490-9388-4b8a-89ab-5d1f23312a82",
   "metadata": {},
   "outputs": [
    {
     "data": {
      "text/plain": [
       "dict_keys(['Natsuki Takaya', 'Yoshihide Ibata', 'Taku Kishimoto', 'Masaru Yokoyama', 'Masaru Shindou', 'Baek-Ryun Chae', 'Youko Koyama', 'Mika Sugawara'])"
      ]
     },
     "execution_count": 44,
     "metadata": {},
     "output_type": "execute_result"
    }
   ],
   "source": [
    "data_m_mini[\"staff\"][1].keys()"
   ]
  },
  {
   "cell_type": "code",
   "execution_count": 45,
   "id": "7332de9b-66c0-4dcc-878f-e1d5a8251285",
   "metadata": {},
   "outputs": [
    {
     "data": {
      "text/plain": [
       "dict_values(['Original Creator', 'Director & Episode Director & Storyboard', 'Screenplay & Series Composition', 'Music', 'Character Design & Chief Animation Director', 'Photography Director', 'Art Director', 'Color Design'])"
      ]
     },
     "execution_count": 45,
     "metadata": {},
     "output_type": "execute_result"
    }
   ],
   "source": [
    "data_m_mini[\"staff\"][1].values()"
   ]
  },
  {
   "cell_type": "markdown",
   "id": "421044d4-5f1f-4e7e-b80c-668270041b3d",
   "metadata": {},
   "source": [
    "### selanjutnya yaitu mengkonversi values ke keys dan keys ke value pada dict"
   ]
  },
  {
   "cell_type": "code",
   "execution_count": 46,
   "id": "765b3dc6-7a00-4825-b23f-1d4f282f0345",
   "metadata": {},
   "outputs": [
    {
     "name": "stderr",
     "output_type": "stream",
     "text": [
      "C:\\Users\\acer\\AppData\\Local\\Temp\\ipykernel_1608\\1896485708.py:3: SettingWithCopyWarning: \n",
      "A value is trying to be set on a copy of a slice from a DataFrame\n",
      "\n",
      "See the caveats in the documentation: https://pandas.pydata.org/pandas-docs/stable/user_guide/indexing.html#returning-a-view-versus-a-copy\n",
      "  data_m_mini[\"staff\"][i] = {value:key for key, value in dict.items()}\n"
     ]
    }
   ],
   "source": [
    "for i in range (0,len(data_m_mini[\"staff\"])):\n",
    "    dict = data_m_mini[\"staff\"][i]\n",
    "    data_m_mini[\"staff\"][i] = {value:key for key, value in dict.items()}"
   ]
  },
  {
   "cell_type": "code",
   "execution_count": 47,
   "id": "01c42450-a3ab-4144-8884-e2f798842849",
   "metadata": {},
   "outputs": [
    {
     "data": {
      "text/html": [
       "<div>\n",
       "<style scoped>\n",
       "    .dataframe tbody tr th:only-of-type {\n",
       "        vertical-align: middle;\n",
       "    }\n",
       "\n",
       "    .dataframe tbody tr th {\n",
       "        vertical-align: top;\n",
       "    }\n",
       "\n",
       "    .dataframe thead th {\n",
       "        text-align: right;\n",
       "    }\n",
       "</style>\n",
       "<table border=\"1\" class=\"dataframe\">\n",
       "  <thead>\n",
       "    <tr style=\"text-align: right;\">\n",
       "      <th></th>\n",
       "      <th>Type</th>\n",
       "    </tr>\n",
       "  </thead>\n",
       "  <tbody>\n",
       "    <tr>\n",
       "      <th>8000</th>\n",
       "      <td>Movie</td>\n",
       "    </tr>\n",
       "    <tr>\n",
       "      <th>8001</th>\n",
       "      <td>TV</td>\n",
       "    </tr>\n",
       "    <tr>\n",
       "      <th>8002</th>\n",
       "      <td>Movie</td>\n",
       "    </tr>\n",
       "    <tr>\n",
       "      <th>8003</th>\n",
       "      <td>TV</td>\n",
       "    </tr>\n",
       "    <tr>\n",
       "      <th>8004</th>\n",
       "      <td>Web</td>\n",
       "    </tr>\n",
       "    <tr>\n",
       "      <th>8005</th>\n",
       "      <td>Web</td>\n",
       "    </tr>\n",
       "    <tr>\n",
       "      <th>8006</th>\n",
       "      <td>TV</td>\n",
       "    </tr>\n",
       "    <tr>\n",
       "      <th>8007</th>\n",
       "      <td>Movie</td>\n",
       "    </tr>\n",
       "    <tr>\n",
       "      <th>8008</th>\n",
       "      <td>TV</td>\n",
       "    </tr>\n",
       "    <tr>\n",
       "      <th>8009</th>\n",
       "      <td>TV</td>\n",
       "    </tr>\n",
       "    <tr>\n",
       "      <th>8010</th>\n",
       "      <td>Movie</td>\n",
       "    </tr>\n",
       "    <tr>\n",
       "      <th>8011</th>\n",
       "      <td>TV</td>\n",
       "    </tr>\n",
       "    <tr>\n",
       "      <th>8012</th>\n",
       "      <td>Other</td>\n",
       "    </tr>\n",
       "    <tr>\n",
       "      <th>8013</th>\n",
       "      <td>Movie</td>\n",
       "    </tr>\n",
       "    <tr>\n",
       "      <th>8014</th>\n",
       "      <td>Movie</td>\n",
       "    </tr>\n",
       "    <tr>\n",
       "      <th>8015</th>\n",
       "      <td>Web</td>\n",
       "    </tr>\n",
       "    <tr>\n",
       "      <th>8016</th>\n",
       "      <td>TV</td>\n",
       "    </tr>\n",
       "    <tr>\n",
       "      <th>8017</th>\n",
       "      <td>Movie</td>\n",
       "    </tr>\n",
       "    <tr>\n",
       "      <th>8018</th>\n",
       "      <td>TV</td>\n",
       "    </tr>\n",
       "    <tr>\n",
       "      <th>8019</th>\n",
       "      <td>TV</td>\n",
       "    </tr>\n",
       "    <tr>\n",
       "      <th>8020</th>\n",
       "      <td>Web</td>\n",
       "    </tr>\n",
       "    <tr>\n",
       "      <th>8021</th>\n",
       "      <td>Web</td>\n",
       "    </tr>\n",
       "    <tr>\n",
       "      <th>8022</th>\n",
       "      <td>Web</td>\n",
       "    </tr>\n",
       "  </tbody>\n",
       "</table>\n",
       "</div>"
      ],
      "text/plain": [
       "       Type\n",
       "8000  Movie\n",
       "8001     TV\n",
       "8002  Movie\n",
       "8003     TV\n",
       "8004    Web\n",
       "8005    Web\n",
       "8006     TV\n",
       "8007  Movie\n",
       "8008     TV\n",
       "8009     TV\n",
       "8010  Movie\n",
       "8011     TV\n",
       "8012  Other\n",
       "8013  Movie\n",
       "8014  Movie\n",
       "8015    Web\n",
       "8016     TV\n",
       "8017  Movie\n",
       "8018     TV\n",
       "8019     TV\n",
       "8020    Web\n",
       "8021    Web\n",
       "8022    Web"
      ]
     },
     "execution_count": 47,
     "metadata": {},
     "output_type": "execute_result"
    }
   ],
   "source": [
    "data_m_mini.iloc[8000:8023,3:4]"
   ]
  },
  {
   "cell_type": "markdown",
   "id": "c6e34d5f-b726-48d7-8d42-78fb7bdcbbcb",
   "metadata": {},
   "source": [
    "### selanjutnya adalah melakukan filtering terhadap original creator pada kolom"
   ]
  },
  {
   "cell_type": "code",
   "execution_count": 48,
   "id": "ba828bd4-ddd4-42dd-8abb-7d1b89010d2f",
   "metadata": {},
   "outputs": [
    {
     "name": "stderr",
     "output_type": "stream",
     "text": [
      "C:\\Users\\acer\\AppData\\Local\\Temp\\ipykernel_1608\\3047246284.py:2: SettingWithCopyWarning: \n",
      "A value is trying to be set on a copy of a slice from a DataFrame\n",
      "\n",
      "See the caveats in the documentation: https://pandas.pydata.org/pandas-docs/stable/user_guide/indexing.html#returning-a-view-versus-a-copy\n",
      "  data_m_mini[\"staff\"][i] = { key:value for (key,value) in data_m_mini[\"staff\"][i].items() if key  == \"Original Creator\"}\n"
     ]
    }
   ],
   "source": [
    "for i in range (0,len(data_m_mini[\"staff\"])):\n",
    "    data_m_mini[\"staff\"][i] = { key:value for (key,value) in data_m_mini[\"staff\"][i].items() if key  == \"Original Creator\"}"
   ]
  },
  {
   "cell_type": "code",
   "execution_count": 49,
   "id": "667a98dd-36ef-45af-96d8-732bb5799630",
   "metadata": {},
   "outputs": [
    {
     "data": {
      "text/html": [
       "<div>\n",
       "<style scoped>\n",
       "    .dataframe tbody tr th:only-of-type {\n",
       "        vertical-align: middle;\n",
       "    }\n",
       "\n",
       "    .dataframe tbody tr th {\n",
       "        vertical-align: top;\n",
       "    }\n",
       "\n",
       "    .dataframe thead th {\n",
       "        text-align: right;\n",
       "    }\n",
       "</style>\n",
       "<table border=\"1\" class=\"dataframe\">\n",
       "  <thead>\n",
       "    <tr style=\"text-align: right;\">\n",
       "      <th></th>\n",
       "      <th>Type</th>\n",
       "    </tr>\n",
       "  </thead>\n",
       "  <tbody>\n",
       "    <tr>\n",
       "      <th>1</th>\n",
       "      <td>TV</td>\n",
       "    </tr>\n",
       "    <tr>\n",
       "      <th>2</th>\n",
       "      <td>Web</td>\n",
       "    </tr>\n",
       "    <tr>\n",
       "      <th>3</th>\n",
       "      <td>TV</td>\n",
       "    </tr>\n",
       "    <tr>\n",
       "      <th>4</th>\n",
       "      <td>TV</td>\n",
       "    </tr>\n",
       "    <tr>\n",
       "      <th>5</th>\n",
       "      <td>TV</td>\n",
       "    </tr>\n",
       "    <tr>\n",
       "      <th>6</th>\n",
       "      <td>TV</td>\n",
       "    </tr>\n",
       "    <tr>\n",
       "      <th>7</th>\n",
       "      <td>TV</td>\n",
       "    </tr>\n",
       "    <tr>\n",
       "      <th>8</th>\n",
       "      <td>Movie</td>\n",
       "    </tr>\n",
       "    <tr>\n",
       "      <th>9</th>\n",
       "      <td>TV</td>\n",
       "    </tr>\n",
       "    <tr>\n",
       "      <th>10</th>\n",
       "      <td>Movie</td>\n",
       "    </tr>\n",
       "    <tr>\n",
       "      <th>11</th>\n",
       "      <td>TV</td>\n",
       "    </tr>\n",
       "    <tr>\n",
       "      <th>12</th>\n",
       "      <td>TV</td>\n",
       "    </tr>\n",
       "    <tr>\n",
       "      <th>13</th>\n",
       "      <td>TV</td>\n",
       "    </tr>\n",
       "    <tr>\n",
       "      <th>14</th>\n",
       "      <td>Movie</td>\n",
       "    </tr>\n",
       "    <tr>\n",
       "      <th>15</th>\n",
       "      <td>Movie</td>\n",
       "    </tr>\n",
       "    <tr>\n",
       "      <th>16</th>\n",
       "      <td>TV</td>\n",
       "    </tr>\n",
       "    <tr>\n",
       "      <th>17</th>\n",
       "      <td>Web</td>\n",
       "    </tr>\n",
       "    <tr>\n",
       "      <th>18</th>\n",
       "      <td>TV</td>\n",
       "    </tr>\n",
       "    <tr>\n",
       "      <th>19</th>\n",
       "      <td>TV</td>\n",
       "    </tr>\n",
       "    <tr>\n",
       "      <th>20</th>\n",
       "      <td>TV</td>\n",
       "    </tr>\n",
       "    <tr>\n",
       "      <th>21</th>\n",
       "      <td>Web</td>\n",
       "    </tr>\n",
       "    <tr>\n",
       "      <th>22</th>\n",
       "      <td>Movie</td>\n",
       "    </tr>\n",
       "    <tr>\n",
       "      <th>23</th>\n",
       "      <td>Web</td>\n",
       "    </tr>\n",
       "    <tr>\n",
       "      <th>24</th>\n",
       "      <td>TV</td>\n",
       "    </tr>\n",
       "    <tr>\n",
       "      <th>25</th>\n",
       "      <td>TV</td>\n",
       "    </tr>\n",
       "    <tr>\n",
       "      <th>26</th>\n",
       "      <td>TV</td>\n",
       "    </tr>\n",
       "    <tr>\n",
       "      <th>27</th>\n",
       "      <td>TV</td>\n",
       "    </tr>\n",
       "    <tr>\n",
       "      <th>28</th>\n",
       "      <td>Movie</td>\n",
       "    </tr>\n",
       "    <tr>\n",
       "      <th>29</th>\n",
       "      <td>TV</td>\n",
       "    </tr>\n",
       "    <tr>\n",
       "      <th>30</th>\n",
       "      <td>Web</td>\n",
       "    </tr>\n",
       "    <tr>\n",
       "      <th>31</th>\n",
       "      <td>TV</td>\n",
       "    </tr>\n",
       "    <tr>\n",
       "      <th>32</th>\n",
       "      <td>TV</td>\n",
       "    </tr>\n",
       "    <tr>\n",
       "      <th>33</th>\n",
       "      <td>TV</td>\n",
       "    </tr>\n",
       "    <tr>\n",
       "      <th>34</th>\n",
       "      <td>TV</td>\n",
       "    </tr>\n",
       "    <tr>\n",
       "      <th>35</th>\n",
       "      <td>Web</td>\n",
       "    </tr>\n",
       "    <tr>\n",
       "      <th>36</th>\n",
       "      <td>TV</td>\n",
       "    </tr>\n",
       "    <tr>\n",
       "      <th>37</th>\n",
       "      <td>TV</td>\n",
       "    </tr>\n",
       "    <tr>\n",
       "      <th>38</th>\n",
       "      <td>Web</td>\n",
       "    </tr>\n",
       "    <tr>\n",
       "      <th>39</th>\n",
       "      <td>Movie</td>\n",
       "    </tr>\n",
       "  </tbody>\n",
       "</table>\n",
       "</div>"
      ],
      "text/plain": [
       "     Type\n",
       "1      TV\n",
       "2     Web\n",
       "3      TV\n",
       "4      TV\n",
       "5      TV\n",
       "6      TV\n",
       "7      TV\n",
       "8   Movie\n",
       "9      TV\n",
       "10  Movie\n",
       "11     TV\n",
       "12     TV\n",
       "13     TV\n",
       "14  Movie\n",
       "15  Movie\n",
       "16     TV\n",
       "17    Web\n",
       "18     TV\n",
       "19     TV\n",
       "20     TV\n",
       "21    Web\n",
       "22  Movie\n",
       "23    Web\n",
       "24     TV\n",
       "25     TV\n",
       "26     TV\n",
       "27     TV\n",
       "28  Movie\n",
       "29     TV\n",
       "30    Web\n",
       "31     TV\n",
       "32     TV\n",
       "33     TV\n",
       "34     TV\n",
       "35    Web\n",
       "36     TV\n",
       "37     TV\n",
       "38    Web\n",
       "39  Movie"
      ]
     },
     "execution_count": 49,
     "metadata": {},
     "output_type": "execute_result"
    }
   ],
   "source": [
    "data_m_mini.iloc[1:40,3:4]"
   ]
  },
  {
   "cell_type": "markdown",
   "id": "b45219bd-31ea-4583-8729-53851dc47f54",
   "metadata": {},
   "source": [
    "### filtering data untuk dict dengan value"
   ]
  },
  {
   "cell_type": "code",
   "execution_count": 50,
   "id": "de94a5ca-0942-4966-8ac0-7d201fe7186f",
   "metadata": {},
   "outputs": [
    {
     "name": "stderr",
     "output_type": "stream",
     "text": [
      "C:\\Users\\acer\\AppData\\Local\\Temp\\ipykernel_1608\\716305122.py:2: SettingWithCopyWarning: \n",
      "A value is trying to be set on a copy of a slice from a DataFrame\n",
      "\n",
      "See the caveats in the documentation: https://pandas.pydata.org/pandas-docs/stable/user_guide/indexing.html#returning-a-view-versus-a-copy\n",
      "  data_m_mini.drop(filtering_5,inplace = True)\n"
     ]
    }
   ],
   "source": [
    "filtering_5 = data_m_mini[data_m_mini[\"staff\"] == {}].index\n",
    "data_m_mini.drop(filtering_5,inplace = True)"
   ]
  },
  {
   "cell_type": "markdown",
   "id": "27c0908a-196b-4acf-8906-3d95d60f1a33",
   "metadata": {},
   "source": [
    "### selanjutnya reset index"
   ]
  },
  {
   "cell_type": "code",
   "execution_count": 51,
   "id": "8285eeca-86be-46a0-9fed-37f89b177602",
   "metadata": {},
   "outputs": [],
   "source": [
    "data_m_mini.reset_index(inplace = True)"
   ]
  },
  {
   "cell_type": "markdown",
   "id": "cc5f1395-c673-450f-bda9-3f43817b3a3b",
   "metadata": {},
   "source": [
    "### selanjutnya pertahankan value dari original creator"
   ]
  },
  {
   "cell_type": "code",
   "execution_count": 52,
   "id": "2031370f-5396-457c-99ac-6bc051151b26",
   "metadata": {},
   "outputs": [
    {
     "name": "stderr",
     "output_type": "stream",
     "text": [
      "C:\\Users\\acer\\AppData\\Local\\Temp\\ipykernel_1608\\830981870.py:2: SettingWithCopyWarning: \n",
      "A value is trying to be set on a copy of a slice from a DataFrame\n",
      "\n",
      "See the caveats in the documentation: https://pandas.pydata.org/pandas-docs/stable/user_guide/indexing.html#returning-a-view-versus-a-copy\n",
      "  data_m_mini[\"staff\"][i] = (data_m_mini[\"staff\"][i])[\"Original Creator\"]\n"
     ]
    }
   ],
   "source": [
    "for i in range (0,len(data_m_mini[\"staff\"])):\n",
    "        data_m_mini[\"staff\"][i] = (data_m_mini[\"staff\"][i])[\"Original Creator\"]"
   ]
  },
  {
   "cell_type": "markdown",
   "id": "22fbb519-9d97-4e0d-bbbb-6e4f5a17c4e8",
   "metadata": {},
   "source": [
    "## nah sekarang telah sukses mengekstrak nama dari original creator"
   ]
  },
  {
   "cell_type": "code",
   "execution_count": 53,
   "id": "eed14723-6e1b-4c5f-b3b9-77b2f3ffdfbf",
   "metadata": {},
   "outputs": [
    {
     "data": {
      "text/html": [
       "<div>\n",
       "<style scoped>\n",
       "    .dataframe tbody tr th:only-of-type {\n",
       "        vertical-align: middle;\n",
       "    }\n",
       "\n",
       "    .dataframe tbody tr th {\n",
       "        vertical-align: top;\n",
       "    }\n",
       "\n",
       "    .dataframe thead th {\n",
       "        text-align: right;\n",
       "    }\n",
       "</style>\n",
       "<table border=\"1\" class=\"dataframe\">\n",
       "  <thead>\n",
       "    <tr style=\"text-align: right;\">\n",
       "      <th></th>\n",
       "      <th>level_0</th>\n",
       "      <th>index</th>\n",
       "      <th>Rank</th>\n",
       "      <th>Name</th>\n",
       "      <th>Type</th>\n",
       "      <th>Tags</th>\n",
       "      <th>staff</th>\n",
       "    </tr>\n",
       "  </thead>\n",
       "  <tbody>\n",
       "    <tr>\n",
       "      <th>0</th>\n",
       "      <td>0</td>\n",
       "      <td>0</td>\n",
       "      <td>1</td>\n",
       "      <td>Demon Slayer: Kimetsu no Yaiba - Entertainment...</td>\n",
       "      <td>TV</td>\n",
       "      <td>Action, Adventure, Fantasy, Shounen, Demons, H...</td>\n",
       "      <td>Koyoharu Gotouge</td>\n",
       "    </tr>\n",
       "    <tr>\n",
       "      <th>1</th>\n",
       "      <td>1</td>\n",
       "      <td>1</td>\n",
       "      <td>2</td>\n",
       "      <td>Fruits Basket the Final Season</td>\n",
       "      <td>TV</td>\n",
       "      <td>Drama, Fantasy, Romance, Shoujo, Animal Transf...</td>\n",
       "      <td>Natsuki Takaya</td>\n",
       "    </tr>\n",
       "    <tr>\n",
       "      <th>2</th>\n",
       "      <td>2</td>\n",
       "      <td>2</td>\n",
       "      <td>3</td>\n",
       "      <td>Mo Dao Zu Shi 3</td>\n",
       "      <td>Web</td>\n",
       "      <td>Fantasy, Ancient China, Chinese Animation, Cul...</td>\n",
       "      <td>Mo Xiang Tong Xiu</td>\n",
       "    </tr>\n",
       "    <tr>\n",
       "      <th>3</th>\n",
       "      <td>3</td>\n",
       "      <td>3</td>\n",
       "      <td>4</td>\n",
       "      <td>Fullmetal Alchemist: Brotherhood</td>\n",
       "      <td>TV</td>\n",
       "      <td>Action, Adventure, Drama, Fantasy, Mystery, Sh...</td>\n",
       "      <td>Hiromu Arakawa</td>\n",
       "    </tr>\n",
       "    <tr>\n",
       "      <th>4</th>\n",
       "      <td>4</td>\n",
       "      <td>4</td>\n",
       "      <td>5</td>\n",
       "      <td>Attack on Titan 3rd Season: Part II</td>\n",
       "      <td>TV</td>\n",
       "      <td>Action, Fantasy, Horror, Shounen, Dark Fantasy...</td>\n",
       "      <td>Hajime Isayama</td>\n",
       "    </tr>\n",
       "    <tr>\n",
       "      <th>...</th>\n",
       "      <td>...</td>\n",
       "      <td>...</td>\n",
       "      <td>...</td>\n",
       "      <td>...</td>\n",
       "      <td>...</td>\n",
       "      <td>...</td>\n",
       "      <td>...</td>\n",
       "    </tr>\n",
       "    <tr>\n",
       "      <th>3194</th>\n",
       "      <td>9037</td>\n",
       "      <td>18443</td>\n",
       "      <td>18444</td>\n",
       "      <td>The Imaginary</td>\n",
       "      <td>Movie</td>\n",
       "      <td>Based on a Novel</td>\n",
       "      <td>A. F. Harrold</td>\n",
       "    </tr>\n",
       "    <tr>\n",
       "      <th>3195</th>\n",
       "      <td>9049</td>\n",
       "      <td>18481</td>\n",
       "      <td>18482</td>\n",
       "      <td>Goblin Slayer 2</td>\n",
       "      <td>TV</td>\n",
       "      <td>Action, Adventure, Fantasy, Seinen, Dark Fanta...</td>\n",
       "      <td>Kumo Kagyu</td>\n",
       "    </tr>\n",
       "    <tr>\n",
       "      <th>3196</th>\n",
       "      <td>9050</td>\n",
       "      <td>18483</td>\n",
       "      <td>18484</td>\n",
       "      <td>Peleliu: Rakuen no Guernica</td>\n",
       "      <td>Other</td>\n",
       "      <td>Action, Shounen, Island, War, World War 2, Bas...</td>\n",
       "      <td>Masao Hiratsuka</td>\n",
       "    </tr>\n",
       "    <tr>\n",
       "      <th>3197</th>\n",
       "      <td>9053</td>\n",
       "      <td>18487</td>\n",
       "      <td>18488</td>\n",
       "      <td>Make My Day</td>\n",
       "      <td>Web</td>\n",
       "      <td>Horror, Monsters, Original Work</td>\n",
       "      <td>Yasuo Ootagaki</td>\n",
       "    </tr>\n",
       "    <tr>\n",
       "      <th>3198</th>\n",
       "      <td>9054</td>\n",
       "      <td>18488</td>\n",
       "      <td>18489</td>\n",
       "      <td>Shachiku-san wa Youjo Yuurei ni Iyasaretai.</td>\n",
       "      <td>TV</td>\n",
       "      <td>Comedy, Slice of Life, Ghosts, Iyashikei, Non-...</td>\n",
       "      <td>Imari Arita</td>\n",
       "    </tr>\n",
       "  </tbody>\n",
       "</table>\n",
       "<p>3199 rows × 7 columns</p>\n",
       "</div>"
      ],
      "text/plain": [
       "      level_0  index   Rank  \\\n",
       "0           0      0      1   \n",
       "1           1      1      2   \n",
       "2           2      2      3   \n",
       "3           3      3      4   \n",
       "4           4      4      5   \n",
       "...       ...    ...    ...   \n",
       "3194     9037  18443  18444   \n",
       "3195     9049  18481  18482   \n",
       "3196     9050  18483  18484   \n",
       "3197     9053  18487  18488   \n",
       "3198     9054  18488  18489   \n",
       "\n",
       "                                                   Name   Type  \\\n",
       "0     Demon Slayer: Kimetsu no Yaiba - Entertainment...     TV   \n",
       "1                        Fruits Basket the Final Season     TV   \n",
       "2                                       Mo Dao Zu Shi 3    Web   \n",
       "3                      Fullmetal Alchemist: Brotherhood     TV   \n",
       "4                   Attack on Titan 3rd Season: Part II     TV   \n",
       "...                                                 ...    ...   \n",
       "3194                                      The Imaginary  Movie   \n",
       "3195                                    Goblin Slayer 2     TV   \n",
       "3196                        Peleliu: Rakuen no Guernica  Other   \n",
       "3197                                        Make My Day    Web   \n",
       "3198        Shachiku-san wa Youjo Yuurei ni Iyasaretai.     TV   \n",
       "\n",
       "                                                   Tags              staff  \n",
       "0     Action, Adventure, Fantasy, Shounen, Demons, H...   Koyoharu Gotouge  \n",
       "1     Drama, Fantasy, Romance, Shoujo, Animal Transf...     Natsuki Takaya  \n",
       "2     Fantasy, Ancient China, Chinese Animation, Cul...  Mo Xiang Tong Xiu  \n",
       "3     Action, Adventure, Drama, Fantasy, Mystery, Sh...     Hiromu Arakawa  \n",
       "4     Action, Fantasy, Horror, Shounen, Dark Fantasy...     Hajime Isayama  \n",
       "...                                                 ...                ...  \n",
       "3194                                   Based on a Novel      A. F. Harrold  \n",
       "3195  Action, Adventure, Fantasy, Seinen, Dark Fanta...         Kumo Kagyu  \n",
       "3196  Action, Shounen, Island, War, World War 2, Bas...    Masao Hiratsuka  \n",
       "3197                    Horror, Monsters, Original Work     Yasuo Ootagaki  \n",
       "3198  Comedy, Slice of Life, Ghosts, Iyashikei, Non-...        Imari Arita  \n",
       "\n",
       "[3199 rows x 7 columns]"
      ]
     },
     "execution_count": 53,
     "metadata": {},
     "output_type": "execute_result"
    }
   ],
   "source": [
    "data_m_mini"
   ]
  },
  {
   "cell_type": "code",
   "execution_count": 54,
   "id": "6c240d45-38b2-40d8-bd83-4f4028008f2a",
   "metadata": {},
   "outputs": [
    {
     "name": "stderr",
     "output_type": "stream",
     "text": [
      "C:\\Users\\acer\\AppData\\Local\\Temp\\ipykernel_1608\\2256362315.py:1: SettingWithCopyWarning: \n",
      "A value is trying to be set on a copy of a slice from a DataFrame.\n",
      "Try using .loc[row_indexer,col_indexer] = value instead\n",
      "\n",
      "See the caveats in the documentation: https://pandas.pydata.org/pandas-docs/stable/user_guide/indexing.html#returning-a-view-versus-a-copy\n",
      "  data_m_mini[\"Tags\"] = data_m_mini[\"Tags\"] +\", \"+ data_m_mini[\"staff\"]\n"
     ]
    }
   ],
   "source": [
    "data_m_mini[\"Tags\"] = data_m_mini[\"Tags\"] +\", \"+ data_m_mini[\"staff\"]"
   ]
  },
  {
   "cell_type": "code",
   "execution_count": 55,
   "id": "7a3e32be-e823-4626-8c85-645de651c6a4",
   "metadata": {},
   "outputs": [
    {
     "name": "stderr",
     "output_type": "stream",
     "text": [
      "C:\\Users\\acer\\AppData\\Local\\Temp\\ipykernel_1608\\2189139580.py:1: SettingWithCopyWarning: \n",
      "A value is trying to be set on a copy of a slice from a DataFrame\n",
      "\n",
      "See the caveats in the documentation: https://pandas.pydata.org/pandas-docs/stable/user_guide/indexing.html#returning-a-view-versus-a-copy\n",
      "  data_m_mini.drop(labels = \"staff\",axis = 1, inplace= True)\n"
     ]
    }
   ],
   "source": [
    "data_m_mini.drop(labels = \"staff\",axis = 1, inplace= True)\n"
   ]
  },
  {
   "cell_type": "code",
   "execution_count": 56,
   "id": "dc565ccb-c91b-472f-807e-fadd63b0b388",
   "metadata": {},
   "outputs": [],
   "source": [
    "data_m.drop(\"staff\",axis = 1, inplace = True)"
   ]
  },
  {
   "cell_type": "code",
   "execution_count": 57,
   "id": "bb4002fd-26a0-4709-b50d-c39253acc103",
   "metadata": {},
   "outputs": [
    {
     "data": {
      "text/plain": [
       "'Action, Adventure, Fantasy, Shounen, Demons, Historical, Martial Arts, Orphans, Siblings, Swordplay, Based on a Manga, Explicit Violence'"
      ]
     },
     "execution_count": 57,
     "metadata": {},
     "output_type": "execute_result"
    }
   ],
   "source": [
    "data_m[\"Tags\"][0]"
   ]
  },
  {
   "cell_type": "code",
   "execution_count": 58,
   "id": "3524d0e7-7da0-48fc-9707-915f41c923e3",
   "metadata": {},
   "outputs": [
    {
     "data": {
      "text/plain": [
       "'Action, Adventure, Fantasy, Shounen, Demons, Historical, Martial Arts, Orphans, Siblings, Swordplay, Based on a Manga, Explicit Violence, Koyoharu Gotouge'"
      ]
     },
     "execution_count": 58,
     "metadata": {},
     "output_type": "execute_result"
    }
   ],
   "source": [
    "data_m_mini[\"Tags\"][0]"
   ]
  },
  {
   "cell_type": "code",
   "execution_count": 59,
   "id": "cd85cf5e-8dc1-441a-a903-6accf80e8983",
   "metadata": {},
   "outputs": [
    {
     "data": {
      "text/html": [
       "<div>\n",
       "<style scoped>\n",
       "    .dataframe tbody tr th:only-of-type {\n",
       "        vertical-align: middle;\n",
       "    }\n",
       "\n",
       "    .dataframe tbody tr th {\n",
       "        vertical-align: top;\n",
       "    }\n",
       "\n",
       "    .dataframe thead th {\n",
       "        text-align: right;\n",
       "    }\n",
       "</style>\n",
       "<table border=\"1\" class=\"dataframe\">\n",
       "  <thead>\n",
       "    <tr style=\"text-align: right;\">\n",
       "      <th></th>\n",
       "      <th>Rank</th>\n",
       "      <th>Name</th>\n",
       "      <th>Type</th>\n",
       "      <th>Tags</th>\n",
       "    </tr>\n",
       "  </thead>\n",
       "  <tbody>\n",
       "    <tr>\n",
       "      <th>0</th>\n",
       "      <td>1</td>\n",
       "      <td>Demon Slayer: Kimetsu no Yaiba - Entertainment...</td>\n",
       "      <td>TV</td>\n",
       "      <td>Action, Adventure, Fantasy, Shounen, Demons, H...</td>\n",
       "    </tr>\n",
       "    <tr>\n",
       "      <th>1</th>\n",
       "      <td>2</td>\n",
       "      <td>Fruits Basket the Final Season</td>\n",
       "      <td>TV</td>\n",
       "      <td>Drama, Fantasy, Romance, Shoujo, Animal Transf...</td>\n",
       "    </tr>\n",
       "    <tr>\n",
       "      <th>2</th>\n",
       "      <td>3</td>\n",
       "      <td>Mo Dao Zu Shi 3</td>\n",
       "      <td>Web</td>\n",
       "      <td>Fantasy, Ancient China, Chinese Animation, Cul...</td>\n",
       "    </tr>\n",
       "    <tr>\n",
       "      <th>3</th>\n",
       "      <td>4</td>\n",
       "      <td>Fullmetal Alchemist: Brotherhood</td>\n",
       "      <td>TV</td>\n",
       "      <td>Action, Adventure, Drama, Fantasy, Mystery, Sh...</td>\n",
       "    </tr>\n",
       "    <tr>\n",
       "      <th>4</th>\n",
       "      <td>5</td>\n",
       "      <td>Attack on Titan 3rd Season: Part II</td>\n",
       "      <td>TV</td>\n",
       "      <td>Action, Fantasy, Horror, Shounen, Dark Fantasy...</td>\n",
       "    </tr>\n",
       "    <tr>\n",
       "      <th>...</th>\n",
       "      <td>...</td>\n",
       "      <td>...</td>\n",
       "      <td>...</td>\n",
       "      <td>...</td>\n",
       "    </tr>\n",
       "    <tr>\n",
       "      <th>13351</th>\n",
       "      <td>18491</td>\n",
       "      <td>Qin Shi Mingyue: Canghai Hengliu Xiaomeng Spec...</td>\n",
       "      <td>Web</td>\n",
       "      <td>Action, Ancient China, Chinese Animation, Hist...</td>\n",
       "    </tr>\n",
       "    <tr>\n",
       "      <th>13352</th>\n",
       "      <td>18492</td>\n",
       "      <td>Yi Tang Juchang: Sanguo Yanyi</td>\n",
       "      <td>TV</td>\n",
       "      <td>Chinese Animation</td>\n",
       "    </tr>\n",
       "    <tr>\n",
       "      <th>13353</th>\n",
       "      <td>18493</td>\n",
       "      <td>Fenghuang Ji Xiang Yu Qingming Shanghe Tu</td>\n",
       "      <td>TV</td>\n",
       "      <td>Chinese Animation, Family Friendly, Short Epis...</td>\n",
       "    </tr>\n",
       "    <tr>\n",
       "      <th>13354</th>\n",
       "      <td>18494</td>\n",
       "      <td>Chengshi Jiyi Wo Men de Jieri</td>\n",
       "      <td>TV</td>\n",
       "      <td>Chinese Animation, Family Friendly, Short Epis...</td>\n",
       "    </tr>\n",
       "    <tr>\n",
       "      <th>13355</th>\n",
       "      <td>18495</td>\n",
       "      <td>Heisei Inu Monogatari Bow: Genshi Inu Monogata...</td>\n",
       "      <td>Movie</td>\n",
       "      <td>Comedy, Slice of Life, Dogs</td>\n",
       "    </tr>\n",
       "  </tbody>\n",
       "</table>\n",
       "<p>13356 rows × 4 columns</p>\n",
       "</div>"
      ],
      "text/plain": [
       "        Rank                                               Name   Type  \\\n",
       "0          1  Demon Slayer: Kimetsu no Yaiba - Entertainment...     TV   \n",
       "1          2                     Fruits Basket the Final Season     TV   \n",
       "2          3                                    Mo Dao Zu Shi 3    Web   \n",
       "3          4                   Fullmetal Alchemist: Brotherhood     TV   \n",
       "4          5                Attack on Titan 3rd Season: Part II     TV   \n",
       "...      ...                                                ...    ...   \n",
       "13351  18491  Qin Shi Mingyue: Canghai Hengliu Xiaomeng Spec...    Web   \n",
       "13352  18492                      Yi Tang Juchang: Sanguo Yanyi     TV   \n",
       "13353  18493          Fenghuang Ji Xiang Yu Qingming Shanghe Tu     TV   \n",
       "13354  18494                      Chengshi Jiyi Wo Men de Jieri     TV   \n",
       "13355  18495  Heisei Inu Monogatari Bow: Genshi Inu Monogata...  Movie   \n",
       "\n",
       "                                                    Tags  \n",
       "0      Action, Adventure, Fantasy, Shounen, Demons, H...  \n",
       "1      Drama, Fantasy, Romance, Shoujo, Animal Transf...  \n",
       "2      Fantasy, Ancient China, Chinese Animation, Cul...  \n",
       "3      Action, Adventure, Drama, Fantasy, Mystery, Sh...  \n",
       "4      Action, Fantasy, Horror, Shounen, Dark Fantasy...  \n",
       "...                                                  ...  \n",
       "13351  Action, Ancient China, Chinese Animation, Hist...  \n",
       "13352                                  Chinese Animation  \n",
       "13353  Chinese Animation, Family Friendly, Short Epis...  \n",
       "13354  Chinese Animation, Family Friendly, Short Epis...  \n",
       "13355                        Comedy, Slice of Life, Dogs  \n",
       "\n",
       "[13356 rows x 4 columns]"
      ]
     },
     "execution_count": 59,
     "metadata": {},
     "output_type": "execute_result"
    }
   ],
   "source": [
    "data_m.set_index(['Rank','Name'], inplace=True)\n",
    "data_m.update(data_m_mini.set_index(['Rank','Name']))\n",
    "data_m.reset_index(inplace=True)\n",
    "data_m"
   ]
  },
  {
   "cell_type": "code",
   "execution_count": 60,
   "id": "aeddf623-f7fb-4eed-8eb5-6b70cfa1034b",
   "metadata": {},
   "outputs": [
    {
     "name": "stderr",
     "output_type": "stream",
     "text": [
      "C:\\Users\\acer\\AppData\\Local\\Temp\\ipykernel_1608\\2813507748.py:2: SettingWithCopyWarning: \n",
      "A value is trying to be set on a copy of a slice from a DataFrame\n",
      "\n",
      "See the caveats in the documentation: https://pandas.pydata.org/pandas-docs/stable/user_guide/indexing.html#returning-a-view-versus-a-copy\n",
      "  data_m[\"Tags\"][i] = data_m[\"Tags\"][i].replace(\" \",\"\")\n"
     ]
    }
   ],
   "source": [
    "for i in range(0,len(data_m[\"Tags\"])):\n",
    "    data_m[\"Tags\"][i] = data_m[\"Tags\"][i].replace(\" \",\"\")"
   ]
  },
  {
   "cell_type": "code",
   "execution_count": 61,
   "id": "8a03b3b5-3dc3-4509-921d-6c33c0ddd443",
   "metadata": {},
   "outputs": [
    {
     "name": "stderr",
     "output_type": "stream",
     "text": [
      "C:\\Users\\acer\\AppData\\Local\\Temp\\ipykernel_1608\\2589152576.py:2: SettingWithCopyWarning: \n",
      "A value is trying to be set on a copy of a slice from a DataFrame\n",
      "\n",
      "See the caveats in the documentation: https://pandas.pydata.org/pandas-docs/stable/user_guide/indexing.html#returning-a-view-versus-a-copy\n",
      "  data_m[\"Tags\"][i] = data_m[\"Tags\"][i].replace(\",\",\" \")\n"
     ]
    }
   ],
   "source": [
    "for i in range(0,len(data_m[\"Tags\"])):\n",
    "    data_m[\"Tags\"][i] = data_m[\"Tags\"][i].replace(\",\",\" \")"
   ]
  },
  {
   "cell_type": "code",
   "execution_count": 62,
   "id": "c0a6c50c-edc0-48af-8614-ebe1018e87c9",
   "metadata": {},
   "outputs": [],
   "source": [
    "data_m[\"Tags\"] = data_m[\"Tags\"].apply(lambda x: x.lower())"
   ]
  },
  {
   "cell_type": "markdown",
   "id": "b0951a2c-71a7-45ad-b642-1a3345239421",
   "metadata": {},
   "source": [
    "## Selanjutnya pembuatan model rekomendasi"
   ]
  },
  {
   "cell_type": "code",
   "execution_count": 63,
   "id": "04ccab22-3ba9-4f81-bc8e-40a2722b3c2f",
   "metadata": {},
   "outputs": [],
   "source": [
    "data = data_m.copy()"
   ]
  },
  {
   "cell_type": "code",
   "execution_count": 64,
   "id": "8e4c140a-3501-4298-9f4e-b402819730f8",
   "metadata": {},
   "outputs": [
    {
     "data": {
      "text/html": [
       "<div>\n",
       "<style scoped>\n",
       "    .dataframe tbody tr th:only-of-type {\n",
       "        vertical-align: middle;\n",
       "    }\n",
       "\n",
       "    .dataframe tbody tr th {\n",
       "        vertical-align: top;\n",
       "    }\n",
       "\n",
       "    .dataframe thead th {\n",
       "        text-align: right;\n",
       "    }\n",
       "</style>\n",
       "<table border=\"1\" class=\"dataframe\">\n",
       "  <thead>\n",
       "    <tr style=\"text-align: right;\">\n",
       "      <th></th>\n",
       "      <th>Rank</th>\n",
       "      <th>Name</th>\n",
       "      <th>Type</th>\n",
       "      <th>Tags</th>\n",
       "    </tr>\n",
       "  </thead>\n",
       "  <tbody>\n",
       "    <tr>\n",
       "      <th>0</th>\n",
       "      <td>1</td>\n",
       "      <td>Demon Slayer: Kimetsu no Yaiba - Entertainment...</td>\n",
       "      <td>TV</td>\n",
       "      <td>action adventure fantasy shounen demons histor...</td>\n",
       "    </tr>\n",
       "    <tr>\n",
       "      <th>1</th>\n",
       "      <td>2</td>\n",
       "      <td>Fruits Basket the Final Season</td>\n",
       "      <td>TV</td>\n",
       "      <td>drama fantasy romance shoujo animaltransformat...</td>\n",
       "    </tr>\n",
       "    <tr>\n",
       "      <th>2</th>\n",
       "      <td>3</td>\n",
       "      <td>Mo Dao Zu Shi 3</td>\n",
       "      <td>Web</td>\n",
       "      <td>fantasy ancientchina chineseanimation cultivat...</td>\n",
       "    </tr>\n",
       "    <tr>\n",
       "      <th>3</th>\n",
       "      <td>4</td>\n",
       "      <td>Fullmetal Alchemist: Brotherhood</td>\n",
       "      <td>TV</td>\n",
       "      <td>action adventure drama fantasy mystery shounen...</td>\n",
       "    </tr>\n",
       "    <tr>\n",
       "      <th>4</th>\n",
       "      <td>5</td>\n",
       "      <td>Attack on Titan 3rd Season: Part II</td>\n",
       "      <td>TV</td>\n",
       "      <td>action fantasy horror shounen darkfantasy isol...</td>\n",
       "    </tr>\n",
       "    <tr>\n",
       "      <th>...</th>\n",
       "      <td>...</td>\n",
       "      <td>...</td>\n",
       "      <td>...</td>\n",
       "      <td>...</td>\n",
       "    </tr>\n",
       "    <tr>\n",
       "      <th>13351</th>\n",
       "      <td>18491</td>\n",
       "      <td>Qin Shi Mingyue: Canghai Hengliu Xiaomeng Spec...</td>\n",
       "      <td>Web</td>\n",
       "      <td>action ancientchina chineseanimation historica...</td>\n",
       "    </tr>\n",
       "    <tr>\n",
       "      <th>13352</th>\n",
       "      <td>18492</td>\n",
       "      <td>Yi Tang Juchang: Sanguo Yanyi</td>\n",
       "      <td>TV</td>\n",
       "      <td>chineseanimation</td>\n",
       "    </tr>\n",
       "    <tr>\n",
       "      <th>13353</th>\n",
       "      <td>18493</td>\n",
       "      <td>Fenghuang Ji Xiang Yu Qingming Shanghe Tu</td>\n",
       "      <td>TV</td>\n",
       "      <td>chineseanimation familyfriendly shortepisodes</td>\n",
       "    </tr>\n",
       "    <tr>\n",
       "      <th>13354</th>\n",
       "      <td>18494</td>\n",
       "      <td>Chengshi Jiyi Wo Men de Jieri</td>\n",
       "      <td>TV</td>\n",
       "      <td>chineseanimation familyfriendly shortepisodes</td>\n",
       "    </tr>\n",
       "    <tr>\n",
       "      <th>13355</th>\n",
       "      <td>18495</td>\n",
       "      <td>Heisei Inu Monogatari Bow: Genshi Inu Monogata...</td>\n",
       "      <td>Movie</td>\n",
       "      <td>comedy sliceoflife dogs</td>\n",
       "    </tr>\n",
       "  </tbody>\n",
       "</table>\n",
       "<p>13356 rows × 4 columns</p>\n",
       "</div>"
      ],
      "text/plain": [
       "        Rank                                               Name   Type  \\\n",
       "0          1  Demon Slayer: Kimetsu no Yaiba - Entertainment...     TV   \n",
       "1          2                     Fruits Basket the Final Season     TV   \n",
       "2          3                                    Mo Dao Zu Shi 3    Web   \n",
       "3          4                   Fullmetal Alchemist: Brotherhood     TV   \n",
       "4          5                Attack on Titan 3rd Season: Part II     TV   \n",
       "...      ...                                                ...    ...   \n",
       "13351  18491  Qin Shi Mingyue: Canghai Hengliu Xiaomeng Spec...    Web   \n",
       "13352  18492                      Yi Tang Juchang: Sanguo Yanyi     TV   \n",
       "13353  18493          Fenghuang Ji Xiang Yu Qingming Shanghe Tu     TV   \n",
       "13354  18494                      Chengshi Jiyi Wo Men de Jieri     TV   \n",
       "13355  18495  Heisei Inu Monogatari Bow: Genshi Inu Monogata...  Movie   \n",
       "\n",
       "                                                    Tags  \n",
       "0      action adventure fantasy shounen demons histor...  \n",
       "1      drama fantasy romance shoujo animaltransformat...  \n",
       "2      fantasy ancientchina chineseanimation cultivat...  \n",
       "3      action adventure drama fantasy mystery shounen...  \n",
       "4      action fantasy horror shounen darkfantasy isol...  \n",
       "...                                                  ...  \n",
       "13351  action ancientchina chineseanimation historica...  \n",
       "13352                                   chineseanimation  \n",
       "13353      chineseanimation familyfriendly shortepisodes  \n",
       "13354      chineseanimation familyfriendly shortepisodes  \n",
       "13355                            comedy sliceoflife dogs  \n",
       "\n",
       "[13356 rows x 4 columns]"
      ]
     },
     "execution_count": 64,
     "metadata": {},
     "output_type": "execute_result"
    }
   ],
   "source": [
    "data"
   ]
  },
  {
   "cell_type": "markdown",
   "id": "6739f14e-b373-4a1b-ba10-9d4652d9d88c",
   "metadata": {},
   "source": [
    "## Bag Of words atau mengubah data teks menjadi vektor yang dapat dipahami oleh komputer.\n",
    "Bag of Words (BoW) adalah sebuah metode yang digunakan dalam proses pengolahan teks (Natural Language Processing, NLP) untuk mengkonversi teks menjadi representasi numerik yang dapat diproses oleh mesin. Metode ini merupakan salah satu teknik dasar yang sering digunakan dalam NLP dan sangat berguna dalam berbagai aplikasi, seperti klasifikasi dokumen, analisis sentimen, dan pembuatan rekomendasi."
   ]
  },
  {
   "cell_type": "code",
   "execution_count": 65,
   "id": "ba1fafa6-6a42-40ff-baf8-b375d60e4af3",
   "metadata": {},
   "outputs": [],
   "source": [
    "from sklearn.feature_extraction.text import CountVectorizer\n",
    "cv = CountVectorizer(max_features = 13500,stop_words=\"english\")"
   ]
  },
  {
   "cell_type": "code",
   "execution_count": 66,
   "id": "d7f62b11-00f0-4b95-8d97-31200f2c89d2",
   "metadata": {},
   "outputs": [
    {
     "data": {
      "text/plain": [
       "array([[0, 0, 0, ..., 0, 0, 0],\n",
       "       [0, 0, 0, ..., 0, 0, 0],\n",
       "       [0, 0, 0, ..., 0, 0, 0],\n",
       "       ...,\n",
       "       [0, 0, 0, ..., 0, 0, 0],\n",
       "       [0, 0, 0, ..., 0, 0, 0],\n",
       "       [0, 0, 0, ..., 0, 0, 0]], dtype=int64)"
      ]
     },
     "execution_count": 66,
     "metadata": {},
     "output_type": "execute_result"
    }
   ],
   "source": [
    "cv.fit_transform(data[\"Tags\"]).toarray()"
   ]
  },
  {
   "cell_type": "code",
   "execution_count": 67,
   "id": "fba2d90e-db78-482b-af24-7782b1bcf4f2",
   "metadata": {},
   "outputs": [
    {
     "data": {
      "text/plain": [
       "(13356, 1931)"
      ]
     },
     "execution_count": 67,
     "metadata": {},
     "output_type": "execute_result"
    }
   ],
   "source": [
    "cv.fit_transform(data[\"Tags\"]).toarray().shape"
   ]
  },
  {
   "cell_type": "code",
   "execution_count": 68,
   "id": "7fb018d1-df72-4020-aba8-82051f077b27",
   "metadata": {},
   "outputs": [],
   "source": [
    "vectors = cv.fit_transform(data[\"Tags\"]).toarray()"
   ]
  },
  {
   "cell_type": "code",
   "execution_count": 69,
   "id": "a08f6a8f-29a2-4339-b48e-ec6dc5967c11",
   "metadata": {},
   "outputs": [
    {
     "name": "stderr",
     "output_type": "stream",
     "text": [
      "C:\\Users\\acer\\anaconda3\\lib\\site-packages\\sklearn\\utils\\deprecation.py:87: FutureWarning: Function get_feature_names is deprecated; get_feature_names is deprecated in 1.0 and will be removed in 1.2. Please use get_feature_names_out instead.\n",
      "  warnings.warn(msg, category=FutureWarning)\n"
     ]
    },
    {
     "data": {
      "text/plain": [
       "['15thcentury',\n",
       " '16thcentury',\n",
       " '17thcentury',\n",
       " '18thcentury',\n",
       " '19thcentury',\n",
       " 'abiumeda',\n",
       " 'abstract',\n",
       " 'acomomota',\n",
       " 'acting',\n",
       " 'action']"
      ]
     },
     "execution_count": 69,
     "metadata": {},
     "output_type": "execute_result"
    }
   ],
   "source": [
    "cv.get_feature_names()[0:10]"
   ]
  },
  {
   "cell_type": "code",
   "execution_count": 70,
   "id": "552dc844-683c-45f2-b646-6b08f991de32",
   "metadata": {},
   "outputs": [
    {
     "data": {
      "text/plain": [
       "array([[1.        , 0.19611614, 0.10482848, ..., 0.        , 0.        ,\n",
       "        0.        ],\n",
       "       [0.19611614, 1.        , 0.08908708, ..., 0.        , 0.        ,\n",
       "        0.        ],\n",
       "       [0.10482848, 0.08908708, 1.        , ..., 0.21821789, 0.21821789,\n",
       "        0.        ],\n",
       "       ...,\n",
       "       [0.        , 0.        , 0.21821789, ..., 1.        , 1.        ,\n",
       "        0.        ],\n",
       "       [0.        , 0.        , 0.21821789, ..., 1.        , 1.        ,\n",
       "        0.        ],\n",
       "       [0.        , 0.        , 0.        , ..., 0.        , 0.        ,\n",
       "        1.        ]])"
      ]
     },
     "execution_count": 70,
     "metadata": {},
     "output_type": "execute_result"
    }
   ],
   "source": [
    "from sklearn.metrics.pairwise import cosine_similarity\n",
    "similarity = cosine_similarity(vectors)\n",
    "similarity"
   ]
  },
  {
   "cell_type": "code",
   "execution_count": 71,
   "id": "af3c1745-0aac-4f98-bfaf-f856094dde8b",
   "metadata": {},
   "outputs": [
    {
     "data": {
      "text/plain": [
       "(13356, 13356)"
      ]
     },
     "execution_count": 71,
     "metadata": {},
     "output_type": "execute_result"
    }
   ],
   "source": [
    "similarity.shape"
   ]
  },
  {
   "cell_type": "code",
   "execution_count": 72,
   "id": "4012cbe2-0e7c-4d89-889c-d35b5f775d19",
   "metadata": {},
   "outputs": [],
   "source": [
    "def Recommender(user_input):\n",
    "    Index_of_anime = data[data[\"Name\"] == user_input].index[0]\n",
    "    Similarity_score = similarity[Index_of_anime]\n",
    "    Sorted_scores = sorted(list(enumerate(Similarity_score)),reverse = True,key= lambda x: x[1]) [1:6]\n",
    "    Recommended_Anime = []\n",
    "    \n",
    "    for i in Sorted_scores:\n",
    "        Recommended_Anime.append(data.iloc[i[0]].Name)\n",
    "    return Recommended_Anime"
   ]
  },
  {
   "cell_type": "code",
   "execution_count": 73,
   "id": "6536e440-b7e5-4b06-b719-1de23411e969",
   "metadata": {},
   "outputs": [
    {
     "data": {
      "text/plain": [
       "['Orange',\n",
       " 'The Flowers of Evil',\n",
       " 'Forest of Piano 2nd Season',\n",
       " \"Scum's Wish\",\n",
       " 'Kono Oto Tomare! 2nd Season']"
      ]
     },
     "execution_count": 73,
     "metadata": {},
     "output_type": "execute_result"
    }
   ],
   "source": [
    "Recommender(\"Your lie in April\")"
   ]
  },
  {
   "cell_type": "code",
   "execution_count": 74,
   "id": "0e51183f-f4f1-4ba7-af84-7b57d827a306",
   "metadata": {},
   "outputs": [
    {
     "data": {
      "text/plain": [
       "['Yaoshenji 4th Season',\n",
       " 'Yaoshenji 2nd Season',\n",
       " 'Yaoshenji',\n",
       " 'Yaoshenji 5th Season',\n",
       " 'Star Martial God Technique']"
      ]
     },
     "execution_count": 74,
     "metadata": {},
     "output_type": "execute_result"
    }
   ],
   "source": [
    "Recommender(\"Yaoshenji 2nd Season\")"
   ]
  },
  {
   "cell_type": "code",
   "execution_count": 75,
   "id": "37dfb09f-d806-401c-81e8-71a7bac7297a",
   "metadata": {},
   "outputs": [
    {
     "data": {
      "text/plain": [
       "['One Piece Film: Z',\n",
       " 'One Piece Film: Gold ~Episode 0~ 711 ver.',\n",
       " 'One Piece Movie 10: Strong World',\n",
       " 'One Piece Movie 1',\n",
       " 'One Piece Movie 14: Stampede']"
      ]
     },
     "execution_count": 75,
     "metadata": {},
     "output_type": "execute_result"
    }
   ],
   "source": [
    "Recommender(\"One Piece\")"
   ]
  },
  {
   "cell_type": "code",
   "execution_count": 76,
   "id": "9ef22a9f-b87d-446a-b67c-a7b515dc05b8",
   "metadata": {},
   "outputs": [
    {
     "data": {
      "text/plain": [
       "['My Hero Academia 3',\n",
       " 'My Hero Academia 2',\n",
       " \"My Hero Academia Movie 3: World Heroes' Mission\",\n",
       " 'My Hero Academia: Jump Festa 2016 Special',\n",
       " 'My Hero Academia Movie 2: Heroes:Rising']"
      ]
     },
     "execution_count": 76,
     "metadata": {},
     "output_type": "execute_result"
    }
   ],
   "source": [
    "Recommender(\"My Hero Academia\")"
   ]
  },
  {
   "cell_type": "code",
   "execution_count": 77,
   "id": "09fa5f92-e015-4570-98a4-e3715fd9af53",
   "metadata": {},
   "outputs": [
    {
     "data": {
      "text/plain": [
       "['Jujutsu Kaisen 0',\n",
       " 'Ga-Rei-Zero',\n",
       " \"Hell's Paradise: Jigokuraku PV\",\n",
       " 'Corpse Princess: Kuro',\n",
       " \"JoJo's Bizarre Adventure: Phantom Blood\"]"
      ]
     },
     "execution_count": 77,
     "metadata": {},
     "output_type": "execute_result"
    }
   ],
   "source": [
    "Recommender(\"Jujutsu Kaisen\")"
   ]
  },
  {
   "cell_type": "markdown",
   "id": "5cdfe2da-bd92-47f0-8907-82945765597e",
   "metadata": {},
   "source": [
    "kesimpulannya adalah kita telah mendapat rekomendasi film yang kita inginkan berdasarkan judul film yang kita masukkan. data tersebut similar berdasarkan variabel yang diinputkan"
   ]
  },
  {
   "cell_type": "code",
   "execution_count": null,
   "id": "e059008a-7614-42f1-abe2-74e44b5f4c6c",
   "metadata": {},
   "outputs": [],
   "source": []
  }
 ],
 "metadata": {
  "kernelspec": {
   "display_name": "Python 3 (ipykernel)",
   "language": "python",
   "name": "python3"
  },
  "language_info": {
   "codemirror_mode": {
    "name": "ipython",
    "version": 3
   },
   "file_extension": ".py",
   "mimetype": "text/x-python",
   "name": "python",
   "nbconvert_exporter": "python",
   "pygments_lexer": "ipython3",
   "version": "3.9.12"
  }
 },
 "nbformat": 4,
 "nbformat_minor": 5
}
