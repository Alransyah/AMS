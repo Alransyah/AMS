{
 "cells": [
  {
   "cell_type": "markdown",
   "id": "77406c91",
   "metadata": {},
   "source": [
    "## Pengambilan Data"
   ]
  },
  {
   "cell_type": "markdown",
   "id": "e766c659",
   "metadata": {},
   "source": [
    "## Load Library"
   ]
  },
  {
   "cell_type": "code",
   "execution_count": 12,
   "id": "e9a4fc1e",
   "metadata": {},
   "outputs": [],
   "source": [
    "import pandas as pd\n",
    "import time\n",
    "import tweepy\n",
    "import numpy as np"
   ]
  },
  {
   "cell_type": "markdown",
   "id": "c2abfbac",
   "metadata": {},
   "source": [
    "## Login"
   ]
  },
  {
   "cell_type": "code",
   "execution_count": 16,
   "id": "af7a3ad7",
   "metadata": {},
   "outputs": [],
   "source": [
    "def twitter_config():\n",
    "    \"\"\"\n",
    "    Fungsi utilitas untuk mengkonfigurasi konsumsi file API Twitter dengan␣\n",
    "    ,!kunci yang disediakan.\n",
    "    \"\"\"\n",
    "    \n",
    "    # Autentikasi dan akses menggunakan keys\n",
    "    auth = tweepy.OAuthHandler(\"5SciYdsih97OtDTKgF2uKHVYF\", \n",
    "    \"q7ZFbgh2lbvwYNWzrVRvJJVD2iIyG3eTJr6TVwlNFCskhtCLq1\")\n",
    "    auth.set_access_token(\"1267078093505564672-ZIhrpO4Zo3PI1BEYTqYqglJw0437Hw\", \n",
    "    \"okuvszLK4RStLBZbnwaDRFGqPdYEYrSitfFwRRVmAYoG6\")\n",
    "    \n",
    "    # Kembalikan akses ke API\n",
    "    api = tweepy.API(auth)\n",
    "    try:\n",
    "        api.verify_credentials()\n",
    "        print(\"Authentication OK\")\n",
    "    except:\n",
    "        print(\"Error during authentication\")\n",
    "    return api"
   ]
  },
  {
   "cell_type": "code",
   "execution_count": 17,
   "id": "a88aa050",
   "metadata": {},
   "outputs": [
    {
     "name": "stdout",
     "output_type": "stream",
     "text": [
      "Authentication OK\n"
     ]
    }
   ],
   "source": [
    "# buat extractor object\n",
    "extractor = twitter_config()\n"
   ]
  },
  {
   "cell_type": "markdown",
   "id": "ac82a42f",
   "metadata": {},
   "source": [
    "## Ambil tweet"
   ]
  },
  {
   "cell_type": "code",
   "execution_count": 18,
   "id": "fc8bb620",
   "metadata": {},
   "outputs": [
    {
     "name": "stdout",
     "output_type": "stream",
     "text": [
      "Tweets terambil: 100.\n",
      "\n",
      "5 tweet teratas:\n",
      "\n",
      "Saat ini tercatat kematian pasien AKI karena gangguan ginjal akut mencapai 133 jiwa dari total 241 orang pasien yan… https://t.co/kjbIYpXYQO\n",
      "\n",
      "Namun tidak dilakukan penuntutan kecuali atas pengaduan dari suami atau istri orang yang terikat perkawinan, orang… https://t.co/0ti0SYImbu\n",
      "\n",
      "Pada pasal 416 juga tertulis 'setiap orang yang melakukan hidup bersama sebagai suami istri di luar perkawinan dipi… https://t.co/OQijAu4QDD\n",
      "\n",
      "Walaupun dalam butir (2) dijelaskan juga tindak pidana sebagaimana dimaksud di atas tidak dilakukan penuntutan kecu… https://t.co/PVjoiKqtHj\n",
      "\n",
      "Mengutip Draf RUU KUHP, Pada pasal 415 tertulis setiap orang yang melakukan persetubuhan dengan orang yang bukan su… https://t.co/WJASInqvKT\n",
      "\n"
     ]
    }
   ],
   "source": [
    "tweets = extractor.user_timeline(screen_name=\"asumsico\", count=100)\n",
    "print(\"Tweets terambil: {}.\\n\".format(len(tweets)))\n",
    "\n",
    "\n",
    "print(\"5 tweet teratas:\\n\")\n",
    "for tweet in tweets[:5]:\n",
    "    print(tweet.text)\n",
    "    print()"
   ]
  },
  {
   "cell_type": "markdown",
   "id": "cbb9ad2d",
   "metadata": {},
   "source": [
    "## Data Frame"
   ]
  },
  {
   "cell_type": "code",
   "execution_count": 20,
   "id": "b3da8e85",
   "metadata": {},
   "outputs": [
    {
     "data": {
      "text/html": [
       "<div>\n",
       "<style scoped>\n",
       "    .dataframe tbody tr th:only-of-type {\n",
       "        vertical-align: middle;\n",
       "    }\n",
       "\n",
       "    .dataframe tbody tr th {\n",
       "        vertical-align: top;\n",
       "    }\n",
       "\n",
       "    .dataframe thead th {\n",
       "        text-align: right;\n",
       "    }\n",
       "</style>\n",
       "<table border=\"1\" class=\"dataframe\">\n",
       "  <thead>\n",
       "    <tr style=\"text-align: right;\">\n",
       "      <th></th>\n",
       "      <th>Tweets</th>\n",
       "    </tr>\n",
       "  </thead>\n",
       "  <tbody>\n",
       "    <tr>\n",
       "      <th>0</th>\n",
       "      <td>Saat ini tercatat kematian pasien AKI karena g...</td>\n",
       "    </tr>\n",
       "    <tr>\n",
       "      <th>1</th>\n",
       "      <td>Namun tidak dilakukan penuntutan kecuali atas ...</td>\n",
       "    </tr>\n",
       "    <tr>\n",
       "      <th>2</th>\n",
       "      <td>Pada pasal 416 juga tertulis 'setiap orang yan...</td>\n",
       "    </tr>\n",
       "    <tr>\n",
       "      <th>3</th>\n",
       "      <td>Walaupun dalam butir (2) dijelaskan juga tinda...</td>\n",
       "    </tr>\n",
       "    <tr>\n",
       "      <th>4</th>\n",
       "      <td>Mengutip Draf RUU KUHP, Pada pasal 415 tertuli...</td>\n",
       "    </tr>\n",
       "    <tr>\n",
       "      <th>...</th>\n",
       "      <td>...</td>\n",
       "    </tr>\n",
       "    <tr>\n",
       "      <th>95</th>\n",
       "      <td>Per tanggal 18 Oktober 2022 sebanyak 189 kasus...</td>\n",
       "    </tr>\n",
       "    <tr>\n",
       "      <th>96</th>\n",
       "      <td>Aipda HR di bawa ke RS Khusus Daerah Jiwa Dadi...</td>\n",
       "    </tr>\n",
       "    <tr>\n",
       "      <th>97</th>\n",
       "      <td>Brigjen Hendra Kurniawan meminta bantuan anggo...</td>\n",
       "    </tr>\n",
       "    <tr>\n",
       "      <th>98</th>\n",
       "      <td>Gubernur Jawa Tengah (Jateng) Ganjar Pranowo m...</td>\n",
       "    </tr>\n",
       "    <tr>\n",
       "      <th>99</th>\n",
       "      <td>Instruksi itu mengamanatkan agar tenaga Keseha...</td>\n",
       "    </tr>\n",
       "  </tbody>\n",
       "</table>\n",
       "<p>100 rows × 1 columns</p>\n",
       "</div>"
      ],
      "text/plain": [
       "                                               Tweets\n",
       "0   Saat ini tercatat kematian pasien AKI karena g...\n",
       "1   Namun tidak dilakukan penuntutan kecuali atas ...\n",
       "2   Pada pasal 416 juga tertulis 'setiap orang yan...\n",
       "3   Walaupun dalam butir (2) dijelaskan juga tinda...\n",
       "4   Mengutip Draf RUU KUHP, Pada pasal 415 tertuli...\n",
       "..                                                ...\n",
       "95  Per tanggal 18 Oktober 2022 sebanyak 189 kasus...\n",
       "96  Aipda HR di bawa ke RS Khusus Daerah Jiwa Dadi...\n",
       "97  Brigjen Hendra Kurniawan meminta bantuan anggo...\n",
       "98  Gubernur Jawa Tengah (Jateng) Ganjar Pranowo m...\n",
       "99  Instruksi itu mengamanatkan agar tenaga Keseha...\n",
       "\n",
       "[100 rows x 1 columns]"
      ]
     },
     "metadata": {},
     "output_type": "display_data"
    }
   ],
   "source": [
    "#Membuat kerangka data sebagai berikut:\n",
    "dataset = pd.DataFrame(data=[tweet.text for tweet in tweets], columns=['Tweets'])\n",
    "\n",
    "#Membuat tampilan kerangka data:\n",
    "display(dataset.head(100))"
   ]
  },
  {
   "cell_type": "markdown",
   "id": "44c8c538",
   "metadata": {},
   "source": [
    "## Simpan csv"
   ]
  },
  {
   "cell_type": "code",
   "execution_count": 27,
   "id": "f1ca50cf",
   "metadata": {},
   "outputs": [],
   "source": [
    "dataset.to_csv('dataset_user.csv',sep=';')"
   ]
  },
  {
   "cell_type": "markdown",
   "id": "a0fb7958",
   "metadata": {},
   "source": [
    "## Load Dataset"
   ]
  },
  {
   "cell_type": "code",
   "execution_count": 31,
   "id": "22eaec59",
   "metadata": {},
   "outputs": [
    {
     "data": {
      "text/html": [
       "<div>\n",
       "<style scoped>\n",
       "    .dataframe tbody tr th:only-of-type {\n",
       "        vertical-align: middle;\n",
       "    }\n",
       "\n",
       "    .dataframe tbody tr th {\n",
       "        vertical-align: top;\n",
       "    }\n",
       "\n",
       "    .dataframe thead th {\n",
       "        text-align: right;\n",
       "    }\n",
       "</style>\n",
       "<table border=\"1\" class=\"dataframe\">\n",
       "  <thead>\n",
       "    <tr style=\"text-align: right;\">\n",
       "      <th></th>\n",
       "      <th>Unnamed: 0</th>\n",
       "      <th>Tweets</th>\n",
       "    </tr>\n",
       "  </thead>\n",
       "  <tbody>\n",
       "    <tr>\n",
       "      <th>0</th>\n",
       "      <td>0</td>\n",
       "      <td>Saat ini tercatat kematian pasien AKI karena g...</td>\n",
       "    </tr>\n",
       "    <tr>\n",
       "      <th>1</th>\n",
       "      <td>1</td>\n",
       "      <td>Namun tidak dilakukan penuntutan kecuali atas ...</td>\n",
       "    </tr>\n",
       "    <tr>\n",
       "      <th>2</th>\n",
       "      <td>2</td>\n",
       "      <td>Pada pasal 416 juga tertulis 'setiap orang yan...</td>\n",
       "    </tr>\n",
       "    <tr>\n",
       "      <th>3</th>\n",
       "      <td>3</td>\n",
       "      <td>Walaupun dalam butir (2) dijelaskan juga tinda...</td>\n",
       "    </tr>\n",
       "    <tr>\n",
       "      <th>4</th>\n",
       "      <td>4</td>\n",
       "      <td>Mengutip Draf RUU KUHP, Pada pasal 415 tertuli...</td>\n",
       "    </tr>\n",
       "  </tbody>\n",
       "</table>\n",
       "</div>"
      ],
      "text/plain": [
       "   Unnamed: 0                                             Tweets\n",
       "0           0  Saat ini tercatat kematian pasien AKI karena g...\n",
       "1           1  Namun tidak dilakukan penuntutan kecuali atas ...\n",
       "2           2  Pada pasal 416 juga tertulis 'setiap orang yan...\n",
       "3           3  Walaupun dalam butir (2) dijelaskan juga tinda...\n",
       "4           4  Mengutip Draf RUU KUHP, Pada pasal 415 tertuli..."
      ]
     },
     "execution_count": 31,
     "metadata": {},
     "output_type": "execute_result"
    }
   ],
   "source": [
    "df = pd.read_csv('dataset_user.csv',sep=';')\n",
    "df.head()"
   ]
  },
  {
   "cell_type": "code",
   "execution_count": null,
   "id": "fa91ac35",
   "metadata": {},
   "outputs": [],
   "source": []
  }
 ],
 "metadata": {
  "kernelspec": {
   "display_name": "Python 3 (ipykernel)",
   "language": "python",
   "name": "python3"
  },
  "language_info": {
   "codemirror_mode": {
    "name": "ipython",
    "version": 3
   },
   "file_extension": ".py",
   "mimetype": "text/x-python",
   "name": "python",
   "nbconvert_exporter": "python",
   "pygments_lexer": "ipython3",
   "version": "3.9.12"
  }
 },
 "nbformat": 4,
 "nbformat_minor": 5
}
